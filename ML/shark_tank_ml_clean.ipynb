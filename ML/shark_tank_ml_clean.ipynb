{
 "cells": [
  {
   "cell_type": "code",
   "execution_count": null,
   "metadata": {},
   "outputs": [],
   "source": [
    "# wordcloud and boost specific words?\n",
    "# statsmodels, ordinary least squares, pvalue\n",
    "\n"
   ]
  },
  {
   "source": [
    "import pandas as pd\n",
    "import numpy as np\n",
    "from string import punctuation\n",
    "import nltk\n",
    "from nltk.stem import PorterStemmer\n",
    "from nltk.corpus import stopwords\n",
    "from sklearn.feature_extraction.text import TfidfVectorizer\n",
    "from sklearn.naive_bayes import MultinomialNB\n",
    "from sklearn import metrics\n",
    "from sklearn.metrics import confusion_matrix\n",
    "from sklearn.model_selection import train_test_split\n",
    "from imblearn.over_sampling import SMOTE\n",
    ""
   ],
   "cell_type": "code",
   "outputs": [],
   "metadata": {},
   "execution_count": 1
  },
  {
   "source": [
    "fname = \"../data/S1_8Sharktankpitchesdeals.csv\"\n",
    "data = pd.read_csv(fname)\n",
    "# data[\"Number_Sharks\"] = data[\"Kevin O'Leary\"] + data[\"Lori Greiner\"] + data[\"Mark Cuban\"] + data[\"Robert Herjavec\"] + data[\"Daymond John\"] + data[\"Barbara Corcoran\"] + data[\"Others\"]\n",
    "data"
   ],
   "cell_type": "code",
   "outputs": [
    {
     "output_type": "execute_result",
     "data": {
      "text/plain": "     Season_Epi_code  Pitched_Business_Identifier  Amount_Asked_For  \\\n0                101             Ava the Elephant             50000   \n1                101  College Foxes Packing Boxes            250000   \n2                101                    Ionic Ear           1000000   \n3                101        Mr. Tod's Pie Factory            460000   \n4                101                      Wispots           1200000   \n..               ...                          ...               ...   \n699              824                Wallet Buckle            500000   \n700              826                 Bridal Buddy             75000   \n701              826                   Laid Brand             30000   \n702              826                   Rocketbook            400000   \n703              826                Wine & Design            500000   \n\n     Exchange_For_Stake   Valuation  Gender               Category  \\\n0                  0.15    333333.0  Female      Health / Wellness   \n1                  0.25   1000000.0    Male       Lifestyle / Home   \n2                  0.15   6666667.0    Male        Software / Tech   \n3                  0.10   4600000.0    Male      Food and Beverage   \n4                  0.10  12000000.0    Male      Business Services   \n..                  ...         ...     ...                    ...   \n699                0.10   5000000.0    Male       Fashion / Beauty   \n700                0.10    750000.0  Female       Fashion / Beauty   \n701                0.30    100000.0    Male       Fashion / Beauty   \n702                0.10   4000000.0    Male        Software / Tech   \n703                0.10   5000000.0   Mixed  Media / Entertainment   \n\n                                 Pitched_Business_Desc  Deal_Status  \\\n0     (Emmy the Elephant during show, trademarked a...            1   \n1    a packing and organizing service based on an a...            0   \n2    an implantable Bluetooth device requiring surg...            0   \n3                                        a pie company            1   \n4    an electronic hand-held device for waiting roo...            0   \n..                                                 ...          ...   \n699  a belt buckle that holds credit cards . The Wa...            1   \n700  a functional slip worn under a wedding gown th...            1   \n701  hair-care products made with pheromones . Laid...            0   \n702  a notebook that can scan contents to cloud ser...            0   \n703  painting classes with wine served . Wine & Des...            1   \n\n     Kevin O'Leary  ...  Mark Cuban  Robert Herjavec  Daymond John  \\\n0                0  ...           0                0             0   \n1                0  ...           0                0             0   \n2                0  ...           0                0             0   \n3                0  ...           0                0             1   \n4                0  ...           0                0             0   \n..             ...  ...         ...              ...           ...   \n699              0  ...           0                1             0   \n700              1  ...           0                0             0   \n701              0  ...           0                0             0   \n702              0  ...           0                0             0   \n703              1  ...           0                0             0   \n\n     Barbara Corcoran  Others      Deal_Shark 1  Deal_Shark 2 Deal_Shark 3  \\\n0                   1       0  Barbara Corcoran           NaN          NaN   \n1                   0       0               NaN           NaN          NaN   \n2                   0       0               NaN           NaN          NaN   \n3                   1       0  Barbara Corcoran  Daymond John          NaN   \n4                   0       0               NaN           NaN          NaN   \n..                ...     ...               ...           ...          ...   \n699                 0       0   Robert Herjavec           NaN          NaN   \n700                 0       0     Kevin O'Leary  Lori Greiner          NaN   \n701                 0       0               NaN           NaN          NaN   \n702                 0       0               NaN           NaN          NaN   \n703                 0       0     Kevin O'Leary           NaN          NaN   \n\n    Deal_Shark 4 Deal_Shark 5  \n0            NaN          NaN  \n1            NaN          NaN  \n2            NaN          NaN  \n3            NaN          NaN  \n4            NaN          NaN  \n..           ...          ...  \n699          NaN          NaN  \n700          NaN          NaN  \n701          NaN          NaN  \n702          NaN          NaN  \n703          NaN          NaN  \n\n[704 rows x 21 columns]",
      "text/html": "<div>\n<style scoped>\n    .dataframe tbody tr th:only-of-type {\n        vertical-align: middle;\n    }\n\n    .dataframe tbody tr th {\n        vertical-align: top;\n    }\n\n    .dataframe thead th {\n        text-align: right;\n    }\n</style>\n<table border=\"1\" class=\"dataframe\">\n  <thead>\n    <tr style=\"text-align: right;\">\n      <th></th>\n      <th>Season_Epi_code</th>\n      <th>Pitched_Business_Identifier</th>\n      <th>Amount_Asked_For</th>\n      <th>Exchange_For_Stake</th>\n      <th>Valuation</th>\n      <th>Gender</th>\n      <th>Category</th>\n      <th>Pitched_Business_Desc</th>\n      <th>Deal_Status</th>\n      <th>Kevin O'Leary</th>\n      <th>...</th>\n      <th>Mark Cuban</th>\n      <th>Robert Herjavec</th>\n      <th>Daymond John</th>\n      <th>Barbara Corcoran</th>\n      <th>Others</th>\n      <th>Deal_Shark 1</th>\n      <th>Deal_Shark 2</th>\n      <th>Deal_Shark 3</th>\n      <th>Deal_Shark 4</th>\n      <th>Deal_Shark 5</th>\n    </tr>\n  </thead>\n  <tbody>\n    <tr>\n      <td>0</td>\n      <td>101</td>\n      <td>Ava the Elephant</td>\n      <td>50000</td>\n      <td>0.15</td>\n      <td>333333.0</td>\n      <td>Female</td>\n      <td>Health / Wellness</td>\n      <td>(Emmy the Elephant during show, trademarked a...</td>\n      <td>1</td>\n      <td>0</td>\n      <td>...</td>\n      <td>0</td>\n      <td>0</td>\n      <td>0</td>\n      <td>1</td>\n      <td>0</td>\n      <td>Barbara Corcoran</td>\n      <td>NaN</td>\n      <td>NaN</td>\n      <td>NaN</td>\n      <td>NaN</td>\n    </tr>\n    <tr>\n      <td>1</td>\n      <td>101</td>\n      <td>College Foxes Packing Boxes</td>\n      <td>250000</td>\n      <td>0.25</td>\n      <td>1000000.0</td>\n      <td>Male</td>\n      <td>Lifestyle / Home</td>\n      <td>a packing and organizing service based on an a...</td>\n      <td>0</td>\n      <td>0</td>\n      <td>...</td>\n      <td>0</td>\n      <td>0</td>\n      <td>0</td>\n      <td>0</td>\n      <td>0</td>\n      <td>NaN</td>\n      <td>NaN</td>\n      <td>NaN</td>\n      <td>NaN</td>\n      <td>NaN</td>\n    </tr>\n    <tr>\n      <td>2</td>\n      <td>101</td>\n      <td>Ionic Ear</td>\n      <td>1000000</td>\n      <td>0.15</td>\n      <td>6666667.0</td>\n      <td>Male</td>\n      <td>Software / Tech</td>\n      <td>an implantable Bluetooth device requiring surg...</td>\n      <td>0</td>\n      <td>0</td>\n      <td>...</td>\n      <td>0</td>\n      <td>0</td>\n      <td>0</td>\n      <td>0</td>\n      <td>0</td>\n      <td>NaN</td>\n      <td>NaN</td>\n      <td>NaN</td>\n      <td>NaN</td>\n      <td>NaN</td>\n    </tr>\n    <tr>\n      <td>3</td>\n      <td>101</td>\n      <td>Mr. Tod's Pie Factory</td>\n      <td>460000</td>\n      <td>0.10</td>\n      <td>4600000.0</td>\n      <td>Male</td>\n      <td>Food and Beverage</td>\n      <td>a pie company</td>\n      <td>1</td>\n      <td>0</td>\n      <td>...</td>\n      <td>0</td>\n      <td>0</td>\n      <td>1</td>\n      <td>1</td>\n      <td>0</td>\n      <td>Barbara Corcoran</td>\n      <td>Daymond John</td>\n      <td>NaN</td>\n      <td>NaN</td>\n      <td>NaN</td>\n    </tr>\n    <tr>\n      <td>4</td>\n      <td>101</td>\n      <td>Wispots</td>\n      <td>1200000</td>\n      <td>0.10</td>\n      <td>12000000.0</td>\n      <td>Male</td>\n      <td>Business Services</td>\n      <td>an electronic hand-held device for waiting roo...</td>\n      <td>0</td>\n      <td>0</td>\n      <td>...</td>\n      <td>0</td>\n      <td>0</td>\n      <td>0</td>\n      <td>0</td>\n      <td>0</td>\n      <td>NaN</td>\n      <td>NaN</td>\n      <td>NaN</td>\n      <td>NaN</td>\n      <td>NaN</td>\n    </tr>\n    <tr>\n      <td>...</td>\n      <td>...</td>\n      <td>...</td>\n      <td>...</td>\n      <td>...</td>\n      <td>...</td>\n      <td>...</td>\n      <td>...</td>\n      <td>...</td>\n      <td>...</td>\n      <td>...</td>\n      <td>...</td>\n      <td>...</td>\n      <td>...</td>\n      <td>...</td>\n      <td>...</td>\n      <td>...</td>\n      <td>...</td>\n      <td>...</td>\n      <td>...</td>\n      <td>...</td>\n      <td>...</td>\n    </tr>\n    <tr>\n      <td>699</td>\n      <td>824</td>\n      <td>Wallet Buckle</td>\n      <td>500000</td>\n      <td>0.10</td>\n      <td>5000000.0</td>\n      <td>Male</td>\n      <td>Fashion / Beauty</td>\n      <td>a belt buckle that holds credit cards . The Wa...</td>\n      <td>1</td>\n      <td>0</td>\n      <td>...</td>\n      <td>0</td>\n      <td>1</td>\n      <td>0</td>\n      <td>0</td>\n      <td>0</td>\n      <td>Robert Herjavec</td>\n      <td>NaN</td>\n      <td>NaN</td>\n      <td>NaN</td>\n      <td>NaN</td>\n    </tr>\n    <tr>\n      <td>700</td>\n      <td>826</td>\n      <td>Bridal Buddy</td>\n      <td>75000</td>\n      <td>0.10</td>\n      <td>750000.0</td>\n      <td>Female</td>\n      <td>Fashion / Beauty</td>\n      <td>a functional slip worn under a wedding gown th...</td>\n      <td>1</td>\n      <td>1</td>\n      <td>...</td>\n      <td>0</td>\n      <td>0</td>\n      <td>0</td>\n      <td>0</td>\n      <td>0</td>\n      <td>Kevin O'Leary</td>\n      <td>Lori Greiner</td>\n      <td>NaN</td>\n      <td>NaN</td>\n      <td>NaN</td>\n    </tr>\n    <tr>\n      <td>701</td>\n      <td>826</td>\n      <td>Laid Brand</td>\n      <td>30000</td>\n      <td>0.30</td>\n      <td>100000.0</td>\n      <td>Male</td>\n      <td>Fashion / Beauty</td>\n      <td>hair-care products made with pheromones . Laid...</td>\n      <td>0</td>\n      <td>0</td>\n      <td>...</td>\n      <td>0</td>\n      <td>0</td>\n      <td>0</td>\n      <td>0</td>\n      <td>0</td>\n      <td>NaN</td>\n      <td>NaN</td>\n      <td>NaN</td>\n      <td>NaN</td>\n      <td>NaN</td>\n    </tr>\n    <tr>\n      <td>702</td>\n      <td>826</td>\n      <td>Rocketbook</td>\n      <td>400000</td>\n      <td>0.10</td>\n      <td>4000000.0</td>\n      <td>Male</td>\n      <td>Software / Tech</td>\n      <td>a notebook that can scan contents to cloud ser...</td>\n      <td>0</td>\n      <td>0</td>\n      <td>...</td>\n      <td>0</td>\n      <td>0</td>\n      <td>0</td>\n      <td>0</td>\n      <td>0</td>\n      <td>NaN</td>\n      <td>NaN</td>\n      <td>NaN</td>\n      <td>NaN</td>\n      <td>NaN</td>\n    </tr>\n    <tr>\n      <td>703</td>\n      <td>826</td>\n      <td>Wine &amp; Design</td>\n      <td>500000</td>\n      <td>0.10</td>\n      <td>5000000.0</td>\n      <td>Mixed</td>\n      <td>Media / Entertainment</td>\n      <td>painting classes with wine served . Wine &amp; Des...</td>\n      <td>1</td>\n      <td>1</td>\n      <td>...</td>\n      <td>0</td>\n      <td>0</td>\n      <td>0</td>\n      <td>0</td>\n      <td>0</td>\n      <td>Kevin O'Leary</td>\n      <td>NaN</td>\n      <td>NaN</td>\n      <td>NaN</td>\n      <td>NaN</td>\n    </tr>\n  </tbody>\n</table>\n<p>704 rows × 21 columns</p>\n</div>"
     },
     "metadata": {},
     "execution_count": 2
    }
   ],
   "metadata": {},
   "execution_count": 2
  },
  {
   "source": [
    "# Choose model output\n",
    "\n",
    "# \"Deal_Status\"\n",
    "# \"Number_Sharks\"\n",
    "# \"Deal_Shark 1\"\n",
    "\n",
    "# \"Kevin O'Leary\"\n",
    "# \"Barbara Corcoran\"\n",
    "# \"Robert Herjavec\"\n",
    "# \"Daymond John\"\n",
    "# \"Lori Greiner\"\n",
    "# \"Mark Cuban\"\n",
    "# \"Others\"\n",
    "shark_to_model = \"Deal_Shark 1\""
   ],
   "cell_type": "code",
   "outputs": [],
   "metadata": {},
   "execution_count": 3
  },
  {
   "source": [
    "# drop rows where shark_to_model is Nan\n",
    "data=data.dropna(subset=[shark_to_model]).reset_index(drop=True)\n",
    "data"
   ],
   "cell_type": "code",
   "outputs": [
    {
     "output_type": "execute_result",
     "data": {
      "text/plain": "     Season_Epi_code Pitched_Business_Identifier  Amount_Asked_For  \\\n0                101            Ava the Elephant             50000   \n1                101       Mr. Tod's Pie Factory            460000   \n2                102              A Perfect Pear            500000   \n3                102              Classroom Jams            250000   \n4                103            Stress Free Kids            250000   \n..               ...                         ...               ...   \n377              824                  Rumi Spice            250000   \n378              824                Thompson Tee            700000   \n379              824               Wallet Buckle            500000   \n380              826                Bridal Buddy             75000   \n381              826               Wine & Design            500000   \n\n     Exchange_For_Stake   Valuation  Gender               Category  \\\n0                  0.15    333333.0  Female      Health / Wellness   \n1                  0.10   4600000.0    Male      Food and Beverage   \n2                  0.15   3333333.0  Female      Food and Beverage   \n3                  0.10   2500000.0    Male   Children / Education   \n4                  0.20   1250000.0  Female   Children / Education   \n..                  ...         ...     ...                    ...   \n377                0.05   5000000.0   Mixed      Food and Beverage   \n378                0.07  10000000.0    Male       Fashion / Beauty   \n379                0.10   5000000.0    Male       Fashion / Beauty   \n380                0.10    750000.0  Female       Fashion / Beauty   \n381                0.10   5000000.0   Mixed  Media / Entertainment   \n\n                                 Pitched_Business_Desc  Deal_Status  \\\n0     (Emmy the Elephant during show, trademarked a...            1   \n1                                        a pie company            1   \n2    a gourmet food business . a gourmet food business            1   \n3    a musical way to teach students Shakespeare . ...            1   \n4    a line of books that use stress relieving tech...            1   \n..                                                 ...          ...   \n377  saffron imported from Afghanistan . Rumi Spice...            1   \n378  undershirts designed to block underarm sweat ....            1   \n379  a belt buckle that holds credit cards . The Wa...            1   \n380  a functional slip worn under a wedding gown th...            1   \n381  painting classes with wine served . Wine & Des...            1   \n\n     Kevin O'Leary  ...  Mark Cuban  Robert Herjavec  Daymond John  \\\n0                0  ...           0                0             0   \n1                0  ...           0                0             1   \n2                0  ...           0                1             0   \n3                1  ...           0                1             1   \n4                0  ...           0                0             0   \n..             ...  ...         ...              ...           ...   \n377              0  ...           1                0             0   \n378              0  ...           0                1             0   \n379              0  ...           0                1             0   \n380              1  ...           0                0             0   \n381              1  ...           0                0             0   \n\n     Barbara Corcoran  Others      Deal_Shark 1  Deal_Shark 2   Deal_Shark 3  \\\n0                   1       0  Barbara Corcoran           NaN            NaN   \n1                   1       0  Barbara Corcoran  Daymond John            NaN   \n2                   0       0   Robert Herjavec           NaN            NaN   \n3                   1       0  Barbara Corcoran  Daymond John  Kevin O'Leary   \n4                   1       0  Barbara Corcoran           NaN            NaN   \n..                ...     ...               ...           ...            ...   \n377                 0       0        Mark Cuban           NaN            NaN   \n378                 0       0   Robert Herjavec           NaN            NaN   \n379                 0       0   Robert Herjavec           NaN            NaN   \n380                 0       0     Kevin O'Leary  Lori Greiner            NaN   \n381                 0       0     Kevin O'Leary           NaN            NaN   \n\n        Deal_Shark 4 Deal_Shark 5  \n0                NaN          NaN  \n1                NaN          NaN  \n2                NaN          NaN  \n3    Robert Herjavec          NaN  \n4                NaN          NaN  \n..               ...          ...  \n377              NaN          NaN  \n378              NaN          NaN  \n379              NaN          NaN  \n380              NaN          NaN  \n381              NaN          NaN  \n\n[382 rows x 21 columns]",
      "text/html": "<div>\n<style scoped>\n    .dataframe tbody tr th:only-of-type {\n        vertical-align: middle;\n    }\n\n    .dataframe tbody tr th {\n        vertical-align: top;\n    }\n\n    .dataframe thead th {\n        text-align: right;\n    }\n</style>\n<table border=\"1\" class=\"dataframe\">\n  <thead>\n    <tr style=\"text-align: right;\">\n      <th></th>\n      <th>Season_Epi_code</th>\n      <th>Pitched_Business_Identifier</th>\n      <th>Amount_Asked_For</th>\n      <th>Exchange_For_Stake</th>\n      <th>Valuation</th>\n      <th>Gender</th>\n      <th>Category</th>\n      <th>Pitched_Business_Desc</th>\n      <th>Deal_Status</th>\n      <th>Kevin O'Leary</th>\n      <th>...</th>\n      <th>Mark Cuban</th>\n      <th>Robert Herjavec</th>\n      <th>Daymond John</th>\n      <th>Barbara Corcoran</th>\n      <th>Others</th>\n      <th>Deal_Shark 1</th>\n      <th>Deal_Shark 2</th>\n      <th>Deal_Shark 3</th>\n      <th>Deal_Shark 4</th>\n      <th>Deal_Shark 5</th>\n    </tr>\n  </thead>\n  <tbody>\n    <tr>\n      <td>0</td>\n      <td>101</td>\n      <td>Ava the Elephant</td>\n      <td>50000</td>\n      <td>0.15</td>\n      <td>333333.0</td>\n      <td>Female</td>\n      <td>Health / Wellness</td>\n      <td>(Emmy the Elephant during show, trademarked a...</td>\n      <td>1</td>\n      <td>0</td>\n      <td>...</td>\n      <td>0</td>\n      <td>0</td>\n      <td>0</td>\n      <td>1</td>\n      <td>0</td>\n      <td>Barbara Corcoran</td>\n      <td>NaN</td>\n      <td>NaN</td>\n      <td>NaN</td>\n      <td>NaN</td>\n    </tr>\n    <tr>\n      <td>1</td>\n      <td>101</td>\n      <td>Mr. Tod's Pie Factory</td>\n      <td>460000</td>\n      <td>0.10</td>\n      <td>4600000.0</td>\n      <td>Male</td>\n      <td>Food and Beverage</td>\n      <td>a pie company</td>\n      <td>1</td>\n      <td>0</td>\n      <td>...</td>\n      <td>0</td>\n      <td>0</td>\n      <td>1</td>\n      <td>1</td>\n      <td>0</td>\n      <td>Barbara Corcoran</td>\n      <td>Daymond John</td>\n      <td>NaN</td>\n      <td>NaN</td>\n      <td>NaN</td>\n    </tr>\n    <tr>\n      <td>2</td>\n      <td>102</td>\n      <td>A Perfect Pear</td>\n      <td>500000</td>\n      <td>0.15</td>\n      <td>3333333.0</td>\n      <td>Female</td>\n      <td>Food and Beverage</td>\n      <td>a gourmet food business . a gourmet food business</td>\n      <td>1</td>\n      <td>0</td>\n      <td>...</td>\n      <td>0</td>\n      <td>1</td>\n      <td>0</td>\n      <td>0</td>\n      <td>0</td>\n      <td>Robert Herjavec</td>\n      <td>NaN</td>\n      <td>NaN</td>\n      <td>NaN</td>\n      <td>NaN</td>\n    </tr>\n    <tr>\n      <td>3</td>\n      <td>102</td>\n      <td>Classroom Jams</td>\n      <td>250000</td>\n      <td>0.10</td>\n      <td>2500000.0</td>\n      <td>Male</td>\n      <td>Children / Education</td>\n      <td>a musical way to teach students Shakespeare . ...</td>\n      <td>1</td>\n      <td>1</td>\n      <td>...</td>\n      <td>0</td>\n      <td>1</td>\n      <td>1</td>\n      <td>1</td>\n      <td>0</td>\n      <td>Barbara Corcoran</td>\n      <td>Daymond John</td>\n      <td>Kevin O'Leary</td>\n      <td>Robert Herjavec</td>\n      <td>NaN</td>\n    </tr>\n    <tr>\n      <td>4</td>\n      <td>103</td>\n      <td>Stress Free Kids</td>\n      <td>250000</td>\n      <td>0.20</td>\n      <td>1250000.0</td>\n      <td>Female</td>\n      <td>Children / Education</td>\n      <td>a line of books that use stress relieving tech...</td>\n      <td>1</td>\n      <td>0</td>\n      <td>...</td>\n      <td>0</td>\n      <td>0</td>\n      <td>0</td>\n      <td>1</td>\n      <td>0</td>\n      <td>Barbara Corcoran</td>\n      <td>NaN</td>\n      <td>NaN</td>\n      <td>NaN</td>\n      <td>NaN</td>\n    </tr>\n    <tr>\n      <td>...</td>\n      <td>...</td>\n      <td>...</td>\n      <td>...</td>\n      <td>...</td>\n      <td>...</td>\n      <td>...</td>\n      <td>...</td>\n      <td>...</td>\n      <td>...</td>\n      <td>...</td>\n      <td>...</td>\n      <td>...</td>\n      <td>...</td>\n      <td>...</td>\n      <td>...</td>\n      <td>...</td>\n      <td>...</td>\n      <td>...</td>\n      <td>...</td>\n      <td>...</td>\n      <td>...</td>\n    </tr>\n    <tr>\n      <td>377</td>\n      <td>824</td>\n      <td>Rumi Spice</td>\n      <td>250000</td>\n      <td>0.05</td>\n      <td>5000000.0</td>\n      <td>Mixed</td>\n      <td>Food and Beverage</td>\n      <td>saffron imported from Afghanistan . Rumi Spice...</td>\n      <td>1</td>\n      <td>0</td>\n      <td>...</td>\n      <td>1</td>\n      <td>0</td>\n      <td>0</td>\n      <td>0</td>\n      <td>0</td>\n      <td>Mark Cuban</td>\n      <td>NaN</td>\n      <td>NaN</td>\n      <td>NaN</td>\n      <td>NaN</td>\n    </tr>\n    <tr>\n      <td>378</td>\n      <td>824</td>\n      <td>Thompson Tee</td>\n      <td>700000</td>\n      <td>0.07</td>\n      <td>10000000.0</td>\n      <td>Male</td>\n      <td>Fashion / Beauty</td>\n      <td>undershirts designed to block underarm sweat ....</td>\n      <td>1</td>\n      <td>0</td>\n      <td>...</td>\n      <td>0</td>\n      <td>1</td>\n      <td>0</td>\n      <td>0</td>\n      <td>0</td>\n      <td>Robert Herjavec</td>\n      <td>NaN</td>\n      <td>NaN</td>\n      <td>NaN</td>\n      <td>NaN</td>\n    </tr>\n    <tr>\n      <td>379</td>\n      <td>824</td>\n      <td>Wallet Buckle</td>\n      <td>500000</td>\n      <td>0.10</td>\n      <td>5000000.0</td>\n      <td>Male</td>\n      <td>Fashion / Beauty</td>\n      <td>a belt buckle that holds credit cards . The Wa...</td>\n      <td>1</td>\n      <td>0</td>\n      <td>...</td>\n      <td>0</td>\n      <td>1</td>\n      <td>0</td>\n      <td>0</td>\n      <td>0</td>\n      <td>Robert Herjavec</td>\n      <td>NaN</td>\n      <td>NaN</td>\n      <td>NaN</td>\n      <td>NaN</td>\n    </tr>\n    <tr>\n      <td>380</td>\n      <td>826</td>\n      <td>Bridal Buddy</td>\n      <td>75000</td>\n      <td>0.10</td>\n      <td>750000.0</td>\n      <td>Female</td>\n      <td>Fashion / Beauty</td>\n      <td>a functional slip worn under a wedding gown th...</td>\n      <td>1</td>\n      <td>1</td>\n      <td>...</td>\n      <td>0</td>\n      <td>0</td>\n      <td>0</td>\n      <td>0</td>\n      <td>0</td>\n      <td>Kevin O'Leary</td>\n      <td>Lori Greiner</td>\n      <td>NaN</td>\n      <td>NaN</td>\n      <td>NaN</td>\n    </tr>\n    <tr>\n      <td>381</td>\n      <td>826</td>\n      <td>Wine &amp; Design</td>\n      <td>500000</td>\n      <td>0.10</td>\n      <td>5000000.0</td>\n      <td>Mixed</td>\n      <td>Media / Entertainment</td>\n      <td>painting classes with wine served . Wine &amp; Des...</td>\n      <td>1</td>\n      <td>1</td>\n      <td>...</td>\n      <td>0</td>\n      <td>0</td>\n      <td>0</td>\n      <td>0</td>\n      <td>0</td>\n      <td>Kevin O'Leary</td>\n      <td>NaN</td>\n      <td>NaN</td>\n      <td>NaN</td>\n      <td>NaN</td>\n    </tr>\n  </tbody>\n</table>\n<p>382 rows × 21 columns</p>\n</div>"
     },
     "metadata": {},
     "execution_count": 4
    }
   ],
   "metadata": {},
   "execution_count": 4
  },
  {
   "source": [
    "# Custom tokenizer from class activity 22-1-4\n",
    "stopwords = stopwords.words( 'english' ) + list(punctuation)\n",
    "stemmer = PorterStemmer()\n",
    "# Stemming\n",
    "punc_list = list(punctuation)\n",
    "def special_remove(word):\n",
    "    if len(word)>2:\n",
    "        return False\n",
    "    for c in word:\n",
    "        if c in punc_list:\n",
    "            return True\n",
    "    return False\n",
    "\n",
    "# custom function that overrides default token generation\n",
    "def custom_tokenizer(text):\n",
    "    text = text.lower()\n",
    "    words = nltk.word_tokenize(text)\n",
    "    words = [stemmer.stem(w) for w in words if w not in stopwords+[\"...\"]]\n",
    "    # further remove words with a special char\n",
    "    words = [w for w in words if not special_remove(w)]\n",
    "    return words\n",
    "\n",
    "activity_vectorizer = TfidfVectorizer(ngram_range=(1,2)\n",
    "                            ,tokenizer=custom_tokenizer \n",
    "                            ,stop_words='english'\n",
    "                            # ,min_df=2\n",
    "                            ,strip_accents='unicode'\n",
    "                            )\n",
    "\n",
    "activity_vectors = activity_vectorizer.fit_transform(data[\"Pitched_Business_Desc\"])\n",
    "activity_df = pd.DataFrame(activity_vectors.toarray(), columns=activity_vectorizer.get_feature_names())\n",
    "activity_df"
   ],
   "cell_type": "code",
   "outputs": [
    {
     "output_type": "stream",
     "name": "stderr",
     "text": "C:\\Users\\atk285\\AppData\\Local\\Continuum\\anaconda3\\envs\\PythonData\\lib\\site-packages\\sklearn\\feature_extraction\\text.py:385: UserWarning: Your stop_words may be inconsistent with your preprocessing. Tokenizing the stop words generated tokens ['afterward', 'alon', 'alreadi', 'alway', 'anoth', 'anyon', 'anyth', 'anywher', 'becam', 'becom', 'besid', 'cri', 'describ', 'els', 'elsewher', 'empti', 'everi', 'everyon', 'everyth', 'everywher', 'fifti', 'formerli', 'forti', 'henc', 'hereaft', 'herebi', 'howev', 'hundr', 'inde', 'latterli', 'mani', 'meanwhil', 'moreov', 'mostli', 'nobodi', 'noon', 'noth', 'nowher', 'otherwis', 'perhap', 'pleas', 'seriou', 'sever', 'sinc', 'sincer', 'sixti', 'someon', 'someth', 'sometim', 'somewher', 'thenc', 'thereaft', 'therebi', 'therefor', 'thu', 'togeth', 'twelv', 'twenti', 'whatev', 'whenc', 'whenev', 'wherea', 'whereaft', 'wherebi', 'wherev'] not in stop_words.\n  'stop_words.' % sorted(inconsistent))\n"
    },
    {
     "output_type": "execute_result",
     "data": {
      "text/plain": "     -not  -not simpli   10  10 day  10 net  10,000  10,000 run  10-30  \\\n0     0.0          0.0  0.0     0.0     0.0     0.0         0.0    0.0   \n1     0.0          0.0  0.0     0.0     0.0     0.0         0.0    0.0   \n2     0.0          0.0  0.0     0.0     0.0     0.0         0.0    0.0   \n3     0.0          0.0  0.0     0.0     0.0     0.0         0.0    0.0   \n4     0.0          0.0  0.0     0.0     0.0     0.0         0.0    0.0   \n..    ...          ...  ...     ...     ...     ...         ...    ...   \n377   0.0          0.0  0.0     0.0     0.0     0.0         0.0    0.0   \n378   0.0          0.0  0.0     0.0     0.0     0.0         0.0    0.0   \n379   0.0          0.0  0.0     0.0     0.0     0.0         0.0    0.0   \n380   0.0          0.0  0.0     0.0     0.0     0.0         0.0    0.0   \n381   0.0          0.0  0.0     0.0     0.0     0.0         0.0    0.0   \n\n     10-30 minut  100  ...  “ sun  “ sunglass  “ theyr  “ total  “ uv  “ wrap  \\\n0            0.0  0.0  ...    0.0         0.0      0.0      0.0   0.0     0.0   \n1            0.0  0.0  ...    0.0         0.0      0.0      0.0   0.0     0.0   \n2            0.0  0.0  ...    0.0         0.0      0.0      0.0   0.0     0.0   \n3            0.0  0.0  ...    0.0         0.0      0.0      0.0   0.0     0.0   \n4            0.0  0.0  ...    0.0         0.0      0.0      0.0   0.0     0.0   \n..           ...  ...  ...    ...         ...      ...      ...   ...     ...   \n377          0.0  0.0  ...    0.0         0.0      0.0      0.0   0.0     0.0   \n378          0.0  0.0  ...    0.0         0.0      0.0      0.0   0.0     0.0   \n379          0.0  0.0  ...    0.0         0.0      0.0      0.0   0.0     0.0   \n380          0.0  0.0  ...    0.0         0.0      0.0      0.0   0.0     0.0   \n381          0.0  0.0  ...    0.0         0.0      0.0      0.0   0.0     0.0   \n\n       ”  ” peopl  ” potato  ” prevent  \n0    0.0      0.0       0.0        0.0  \n1    0.0      0.0       0.0        0.0  \n2    0.0      0.0       0.0        0.0  \n3    0.0      0.0       0.0        0.0  \n4    0.0      0.0       0.0        0.0  \n..   ...      ...       ...        ...  \n377  0.0      0.0       0.0        0.0  \n378  0.0      0.0       0.0        0.0  \n379  0.0      0.0       0.0        0.0  \n380  0.0      0.0       0.0        0.0  \n381  0.0      0.0       0.0        0.0  \n\n[382 rows x 8634 columns]",
      "text/html": "<div>\n<style scoped>\n    .dataframe tbody tr th:only-of-type {\n        vertical-align: middle;\n    }\n\n    .dataframe tbody tr th {\n        vertical-align: top;\n    }\n\n    .dataframe thead th {\n        text-align: right;\n    }\n</style>\n<table border=\"1\" class=\"dataframe\">\n  <thead>\n    <tr style=\"text-align: right;\">\n      <th></th>\n      <th>-not</th>\n      <th>-not simpli</th>\n      <th>10</th>\n      <th>10 day</th>\n      <th>10 net</th>\n      <th>10,000</th>\n      <th>10,000 run</th>\n      <th>10-30</th>\n      <th>10-30 minut</th>\n      <th>100</th>\n      <th>...</th>\n      <th>“ sun</th>\n      <th>“ sunglass</th>\n      <th>“ theyr</th>\n      <th>“ total</th>\n      <th>“ uv</th>\n      <th>“ wrap</th>\n      <th>”</th>\n      <th>” peopl</th>\n      <th>” potato</th>\n      <th>” prevent</th>\n    </tr>\n  </thead>\n  <tbody>\n    <tr>\n      <td>0</td>\n      <td>0.0</td>\n      <td>0.0</td>\n      <td>0.0</td>\n      <td>0.0</td>\n      <td>0.0</td>\n      <td>0.0</td>\n      <td>0.0</td>\n      <td>0.0</td>\n      <td>0.0</td>\n      <td>0.0</td>\n      <td>...</td>\n      <td>0.0</td>\n      <td>0.0</td>\n      <td>0.0</td>\n      <td>0.0</td>\n      <td>0.0</td>\n      <td>0.0</td>\n      <td>0.0</td>\n      <td>0.0</td>\n      <td>0.0</td>\n      <td>0.0</td>\n    </tr>\n    <tr>\n      <td>1</td>\n      <td>0.0</td>\n      <td>0.0</td>\n      <td>0.0</td>\n      <td>0.0</td>\n      <td>0.0</td>\n      <td>0.0</td>\n      <td>0.0</td>\n      <td>0.0</td>\n      <td>0.0</td>\n      <td>0.0</td>\n      <td>...</td>\n      <td>0.0</td>\n      <td>0.0</td>\n      <td>0.0</td>\n      <td>0.0</td>\n      <td>0.0</td>\n      <td>0.0</td>\n      <td>0.0</td>\n      <td>0.0</td>\n      <td>0.0</td>\n      <td>0.0</td>\n    </tr>\n    <tr>\n      <td>2</td>\n      <td>0.0</td>\n      <td>0.0</td>\n      <td>0.0</td>\n      <td>0.0</td>\n      <td>0.0</td>\n      <td>0.0</td>\n      <td>0.0</td>\n      <td>0.0</td>\n      <td>0.0</td>\n      <td>0.0</td>\n      <td>...</td>\n      <td>0.0</td>\n      <td>0.0</td>\n      <td>0.0</td>\n      <td>0.0</td>\n      <td>0.0</td>\n      <td>0.0</td>\n      <td>0.0</td>\n      <td>0.0</td>\n      <td>0.0</td>\n      <td>0.0</td>\n    </tr>\n    <tr>\n      <td>3</td>\n      <td>0.0</td>\n      <td>0.0</td>\n      <td>0.0</td>\n      <td>0.0</td>\n      <td>0.0</td>\n      <td>0.0</td>\n      <td>0.0</td>\n      <td>0.0</td>\n      <td>0.0</td>\n      <td>0.0</td>\n      <td>...</td>\n      <td>0.0</td>\n      <td>0.0</td>\n      <td>0.0</td>\n      <td>0.0</td>\n      <td>0.0</td>\n      <td>0.0</td>\n      <td>0.0</td>\n      <td>0.0</td>\n      <td>0.0</td>\n      <td>0.0</td>\n    </tr>\n    <tr>\n      <td>4</td>\n      <td>0.0</td>\n      <td>0.0</td>\n      <td>0.0</td>\n      <td>0.0</td>\n      <td>0.0</td>\n      <td>0.0</td>\n      <td>0.0</td>\n      <td>0.0</td>\n      <td>0.0</td>\n      <td>0.0</td>\n      <td>...</td>\n      <td>0.0</td>\n      <td>0.0</td>\n      <td>0.0</td>\n      <td>0.0</td>\n      <td>0.0</td>\n      <td>0.0</td>\n      <td>0.0</td>\n      <td>0.0</td>\n      <td>0.0</td>\n      <td>0.0</td>\n    </tr>\n    <tr>\n      <td>...</td>\n      <td>...</td>\n      <td>...</td>\n      <td>...</td>\n      <td>...</td>\n      <td>...</td>\n      <td>...</td>\n      <td>...</td>\n      <td>...</td>\n      <td>...</td>\n      <td>...</td>\n      <td>...</td>\n      <td>...</td>\n      <td>...</td>\n      <td>...</td>\n      <td>...</td>\n      <td>...</td>\n      <td>...</td>\n      <td>...</td>\n      <td>...</td>\n      <td>...</td>\n      <td>...</td>\n    </tr>\n    <tr>\n      <td>377</td>\n      <td>0.0</td>\n      <td>0.0</td>\n      <td>0.0</td>\n      <td>0.0</td>\n      <td>0.0</td>\n      <td>0.0</td>\n      <td>0.0</td>\n      <td>0.0</td>\n      <td>0.0</td>\n      <td>0.0</td>\n      <td>...</td>\n      <td>0.0</td>\n      <td>0.0</td>\n      <td>0.0</td>\n      <td>0.0</td>\n      <td>0.0</td>\n      <td>0.0</td>\n      <td>0.0</td>\n      <td>0.0</td>\n      <td>0.0</td>\n      <td>0.0</td>\n    </tr>\n    <tr>\n      <td>378</td>\n      <td>0.0</td>\n      <td>0.0</td>\n      <td>0.0</td>\n      <td>0.0</td>\n      <td>0.0</td>\n      <td>0.0</td>\n      <td>0.0</td>\n      <td>0.0</td>\n      <td>0.0</td>\n      <td>0.0</td>\n      <td>...</td>\n      <td>0.0</td>\n      <td>0.0</td>\n      <td>0.0</td>\n      <td>0.0</td>\n      <td>0.0</td>\n      <td>0.0</td>\n      <td>0.0</td>\n      <td>0.0</td>\n      <td>0.0</td>\n      <td>0.0</td>\n    </tr>\n    <tr>\n      <td>379</td>\n      <td>0.0</td>\n      <td>0.0</td>\n      <td>0.0</td>\n      <td>0.0</td>\n      <td>0.0</td>\n      <td>0.0</td>\n      <td>0.0</td>\n      <td>0.0</td>\n      <td>0.0</td>\n      <td>0.0</td>\n      <td>...</td>\n      <td>0.0</td>\n      <td>0.0</td>\n      <td>0.0</td>\n      <td>0.0</td>\n      <td>0.0</td>\n      <td>0.0</td>\n      <td>0.0</td>\n      <td>0.0</td>\n      <td>0.0</td>\n      <td>0.0</td>\n    </tr>\n    <tr>\n      <td>380</td>\n      <td>0.0</td>\n      <td>0.0</td>\n      <td>0.0</td>\n      <td>0.0</td>\n      <td>0.0</td>\n      <td>0.0</td>\n      <td>0.0</td>\n      <td>0.0</td>\n      <td>0.0</td>\n      <td>0.0</td>\n      <td>...</td>\n      <td>0.0</td>\n      <td>0.0</td>\n      <td>0.0</td>\n      <td>0.0</td>\n      <td>0.0</td>\n      <td>0.0</td>\n      <td>0.0</td>\n      <td>0.0</td>\n      <td>0.0</td>\n      <td>0.0</td>\n    </tr>\n    <tr>\n      <td>381</td>\n      <td>0.0</td>\n      <td>0.0</td>\n      <td>0.0</td>\n      <td>0.0</td>\n      <td>0.0</td>\n      <td>0.0</td>\n      <td>0.0</td>\n      <td>0.0</td>\n      <td>0.0</td>\n      <td>0.0</td>\n      <td>...</td>\n      <td>0.0</td>\n      <td>0.0</td>\n      <td>0.0</td>\n      <td>0.0</td>\n      <td>0.0</td>\n      <td>0.0</td>\n      <td>0.0</td>\n      <td>0.0</td>\n      <td>0.0</td>\n      <td>0.0</td>\n    </tr>\n  </tbody>\n</table>\n<p>382 rows × 8634 columns</p>\n</div>"
     },
     "metadata": {},
     "execution_count": 5
    }
   ],
   "metadata": {},
   "execution_count": 5
  },
  {
   "source": [
    "activity_vectorizer.get_feature_names()"
   ],
   "cell_type": "code",
   "outputs": [
    {
     "output_type": "execute_result",
     "data": {
      "text/plain": "['-not',\n '-not simpli',\n '10',\n '10 day',\n '10 net',\n '10,000',\n '10,000 run',\n '10-30',\n '10-30 minut',\n '100',\n '100 food',\n '100 guarante',\n '100 mile',\n '100 natur',\n '100 recycl',\n '100 time',\n '100 zinc',\n '12',\n '12 fashion',\n '123',\n '123 plush',\n '15',\n '15 flavor',\n '150',\n '150 90',\n '2',\n '2 ipad',\n '2-5',\n '2-5 age',\n '2-in-1',\n '2-in-1 spray',\n '2012',\n '2012 pipcorn',\n '20mph',\n '20mph 30mph',\n '21st',\n '21st centuri',\n '23',\n '23 ounc',\n '24',\n '24 mph',\n '2400',\n '2400 expert',\n '2400 sat',\n '26',\n '26 pound',\n '26g',\n '26g protein',\n '270',\n '270 shoe',\n '3',\n '3 design',\n '3 ipad',\n '3 pack',\n '3-d',\n '3-d design',\n '3-in-1',\n '3-in-1 nail',\n '30',\n '30 minut',\n '300,000',\n '300,000 fund',\n '30mph',\n '30mph travel',\n '35',\n '35 univers',\n '360',\n '360 degre',\n '360-degre',\n '360-degre pictur',\n '3d',\n '3d pop-up',\n '3d touch-bas',\n '4',\n '40+',\n '40+ mile',\n '5',\n '5 minut',\n '5-in-1',\n '5-in-1 babi',\n '5-in-1 convert',\n '50',\n '50 calib',\n '50 mph',\n '5g',\n '5g frutos',\n '6',\n '6 gram',\n '7',\n '7 bottl',\n '7 day',\n '73',\n '73 93',\n '8',\n '8 hour',\n '87',\n '87 coal',\n '90',\n '90 success',\n '93',\n '93 size',\n '99.9',\n '99.9 germ',\n 'aaron',\n 'aaron marino',\n 'ab',\n 'ab protein',\n 'abil',\n 'abil sync',\n 'abl',\n 'abl eat',\n 'absolut',\n 'absolut delici',\n 'absorb',\n 'absorb releas',\n 'absorb shoe',\n 'absorb urin',\n 'ac',\n 'ac speed',\n 'accent',\n 'accent woman',\n 'access',\n 'access card',\n 'access properti',\n 'accessori',\n 'accessori allow',\n 'accessori apparel',\n 'accessori chew',\n 'accessori design',\n 'accessori filter',\n 'accessori got',\n 'accessori guy',\n 'accessori humor',\n 'accessori innov',\n 'accessori locat',\n 'accessori manufactur',\n 'accessori pet',\n 'accessori plain',\n 'accessori silicon',\n 'accessori snap-on',\n 'accessori œmade',\n 'accid',\n 'accid includ',\n 'accident',\n 'accident drop',\n 'accordion',\n 'accordion lumio',\n 'accustom',\n 'accustom great',\n 'acid',\n 'acid wash',\n 'act',\n 'act effect',\n 'act test',\n 'action',\n 'action figur',\n 'action sport',\n 'activ',\n 'activ babi',\n 'activ middl',\n 'activ person',\n 'actual',\n 'actual score',\n 'acupressur',\n 'acupressur devic',\n 'acupressur high',\n 'acupressur massag',\n 'ad',\n 'ad featur',\n 'add',\n 'add burst',\n 'addit',\n 'addit lotion',\n 'addit restor',\n 'addit separ',\n 'adjust',\n 'adjust ring',\n 'adjust sport',\n 'admittedli',\n 'admittedli red',\n 'adult',\n 'adult alik',\n 'adult children',\n 'adult kid',\n 'advanc',\n 'advanc filter',\n 'advantag',\n 'advantag help',\n 'adventur',\n 'adventur compani',\n 'aerial',\n 'aerial ensur',\n 'affect',\n 'affect conflict',\n 'affect health',\n 'affili',\n 'affili stem',\n 'affor',\n 'affor fashion',\n 'afford',\n 'afford conveni',\n 'afford fresh',\n 'afford product',\n 'afganistan',\n 'afganistan add',\n 'afghanistan',\n 'afghanistan rumi',\n 'agav',\n 'agav nectar',\n 'age',\n 'age experi',\n 'age rang',\n 'agenc',\n 'agenc recreat',\n 'agent',\n 'agent inspector',\n 'aha',\n 'aha usa',\n 'ahhh\\x9d',\n 'ahhh\\x9d kind',\n 'aid',\n 'aid mother',\n 'aid ointment',\n 'aim',\n 'aim wheat',\n 'air',\n 'air car',\n 'air filtrat',\n 'air flow',\n 'air mattress',\n 'air speed',\n 'air tank',\n 'air vent',\n 'airbnb',\n 'airbnb colleg',\n 'airplan',\n 'airplan firetruck',\n 'airpod',\n 'airpod new',\n 'airpod zero',\n 'airspac',\n 'airspac america',\n 'airtight',\n 'airtight plate',\n 'alarm',\n 'alarm fireavert',\n 'alarm smoke',\n 'alert',\n 'alert anyon',\n 'alik',\n 'alik enjoy',\n 'all-in-on',\n 'all-in-on placemat',\n 'all-in-on track',\n 'all-in-on wash',\n 'all-natur',\n 'all-natur dog',\n 'all-natur gmo-fre',\n 'all-natur industri',\n 'all-terrain',\n 'all-terrain vehicl',\n 'allegedli',\n 'allegedli heal',\n 'allergi',\n 'allergi line',\n 'alley',\n 'alley superior',\n 'allow',\n 'allow anyon',\n 'allow attach',\n 'allow bare-hand',\n 'allow boarder',\n 'allow check',\n 'allow children',\n 'allow client',\n 'allow custom',\n 'allow effortlessli',\n 'allow enjoy',\n 'allow head',\n 'allow inflat',\n 'allow kid',\n 'allow peopl',\n 'allow pet',\n 'allow privaci',\n 'allow quicker',\n 'allow quickli',\n 'allow real',\n 'allow realli',\n 'allow ride',\n 'allow schedul',\n 'allow seamlessli',\n 'allow send',\n 'allow trim',\n 'allow wearer',\n 'allow wed',\n 'allow wirelessli',\n 'alpha',\n 'alpha gpc',\n 'alreadi',\n 'alreadi gotten',\n 'altern',\n 'altern chemic',\n 'altern chew',\n 'altern elf',\n 'altern honey',\n 'altern peat',\n 'altern popcorn',\n 'altern tradit',\n 'altern train',\n 'aluminum',\n 'aluminum foil',\n 'aluminum soda',\n 'alumni',\n 'alumni love',\n 'alumni sweater',\n 'alwan',\n 'alwan gener',\n 'alway',\n 'amaz',\n 'amaz lure',\n 'amaz meat',\n 'amazingli',\n 'amazingli delici',\n 'america',\n 'america leader',\n 'amplifi',\n 'amplifi enhanc',\n 'android',\n 'android plush',\n 'anim',\n 'anim alik',\n 'anim charact',\n 'anim favorit',\n 'anim friend',\n 'ankl',\n 'ankl calf',\n 'annoy',\n 'annoy costli',\n 'annoyingli',\n 'annoyingli fall',\n 'anoth',\n 'anoth lori',\n 'anoth reason',\n 'anoth tradit',\n 'answer',\n 'answer portabl',\n 'answer twin',\n 'answer ugli',\n 'anybodi',\n 'anybodi worn',\n 'anyon',\n 'anyon cook',\n 'anyon els',\n 'anyon friend',\n 'anyon use',\n 'anyth',\n 'anyth realli',\n 'anyth rfid',\n 'anyth saw',\n 'anyth think',\n 'anytim',\n 'anytim anywher',\n 'anytim emerg',\n 'anytim surfboard',\n 'anywher',\n 'anywher freezer',\n 'anywher hous',\n 'apollo',\n 'apollo peak',\n 'app',\n 'app 360-degre',\n 'app allow',\n 'app gear',\n 'app help',\n 'app hide',\n 'app ilumi',\n 'app kit',\n 'app let',\n 'app measur',\n 'app phone',\n 'app provid',\n 'app send',\n 'app stop',\n 'app sworkit',\n 'appar',\n 'appar weve',\n 'apparel',\n 'apparel accessori',\n 'apparel design',\n 'apparel especi',\n 'apparel fashion',\n 'apparel high-qual',\n 'apparel light',\n 'apparel twist',\n 'appl',\n 'appl grown',\n 'apple-bas',\n 'apple-bas vegan',\n 'appli',\n 'appli cream',\n 'appli pressur',\n 'appli sunscreen',\n 'applianc',\n 'applianc shower',\n 'applic',\n 'applic convert',\n 'applic door',\n 'approv',\n 'approv contact',\n 'approv lollacup',\n 'architect',\n 'architect engin',\n 'area',\n 'arita',\n 'arita texa',\n 'armband',\n 'armband person',\n 'arrang',\n 'arrang kid',\n 'arriv',\n 'arriv gameday',\n 'art',\n 'art children',\n 'art greet',\n 'art innov',\n 'art make',\n 'art mini',\n 'art snugli',\n 'art trend',\n 'artifici',\n 'artifici cadav',\n 'artifici flower',\n 'artisan',\n 'artisan bodi',\n 'artisan coffe',\n 'artisan cream',\n 'artist',\n 'artist guid',\n 'artist transform',\n 'asid',\n 'asid conveni',\n 'asid look',\n 'ask',\n 'ask joul',\n 'aspir',\n 'aspir young',\n 'assembl',\n 'assembl requir',\n 'assembl world',\n 'associ',\n 'associ beauti',\n 'associ chees',\n 'associ technolog',\n 'assort',\n 'assort color',\n 'athlet',\n 'athlet level',\n 'athlet sock',\n 'athletic',\n 'attach',\n 'attach chair',\n 'attach dome',\n 'attach facial',\n 'attach glass',\n 'attach hood',\n 'attach ipad',\n 'attach poster',\n 'attend',\n 'attend want',\n 'attent',\n 'attent fresh',\n 'attorney',\n 'attorney 150',\n 'attract',\n 'attract entertain',\n 'attract fish',\n 'attract game',\n 'ava',\n 'ava plastic',\n 'avail',\n 'avail 73',\n 'avail differ',\n 'avail final',\n 'avail household',\n 'avail infant',\n 'avail men',\n 'avail origin',\n 'avail super',\n 'avail truffl',\n 'avail varieti',\n 'avail women',\n 'averag',\n 'averag tee',\n 'averag woman',\n 'avert',\n 'avert super',\n 'avoid',\n 'avoid crash',\n 'avoid shake',\n 'award',\n 'award win',\n 'away',\n 'away cooki',\n 'awesom',\n 'awesom featur',\n 'awesom ugli',\n 'awkward',\n 'awkward situat',\n 'awkward way',\n 'b-vitamin',\n 'b-vitamin import',\n 'b12',\n 'b12 alpha',\n 'b6',\n 'b6 b12',\n 'babi',\n 'babi babi',\n 'babi blanket',\n 'babi bottl',\n 'babi calm',\n 'babi chang',\n 'babi face',\n 'babi fantast',\n 'babi health',\n 'babi improv',\n 'babi kid',\n 'babi lobster',\n 'babi mat',\n 'babi mimick',\n 'babi moccasin',\n 'babi remov',\n 'babi stroller',\n 'babi swaddl',\n 'babi tranquilo',\n 'backpack',\n 'backpack bag',\n 'backpack boat',\n 'backpack kid',\n 'backpack school',\n 'backpack theft-proof',\n 'backpack uniqu',\n 'backyard',\n 'bacteria',\n 'bacteria cell',\n 'bacteria-fil',\n 'bacteria-fil toilet',\n 'bad',\n 'bad habit',\n 'bad postur',\n 'bad toilet',\n 'bag',\n 'bag backpack',\n 'bag bustl',\n 'bag chair',\n 'bag clean',\n 'bag digiwrap',\n 'bag dispos',\n 'bag hand',\n 'bag innov',\n 'bag recycl',\n 'bag temporari',\n 'bag use',\n 'bag world',\n 'bagel',\n 'bagel ball',\n 'bagel compact',\n 'bagel crispi',\n 'bagel lover',\n 'bagel pre-fil',\n 'bake',\n 'bake compani',\n 'bake experi',\n 'bake kit',\n 'bake product',\n 'balanc',\n 'balanc bike',\n 'balanc board',\n 'balanc momentum',\n 'balanc strengthen',\n 'ball',\n 'ball bound',\n 'ball cake',\n 'ball shampoo',\n 'ball shape',\n 'ball varieti',\n 'ball “',\n 'balm',\n 'bamboo',\n 'bamboo avail',\n 'bamboo paper',\n 'bandag',\n 'bandag color',\n 'bantam',\n 'bantam bagel',\n 'bar',\n 'bar complet',\n 'bar cricket',\n 'bar custom',\n 'bar element',\n 'bar fuel',\n 'bar healthi',\n 'bar let',\n 'bar lotion',\n 'bar select',\n 'bar turbopup',\n 'bar want',\n 'barbecu',\n 'barbecu sauc',\n 'bare-hand',\n 'bare-hand task',\n 'base',\n 'base cocktail',\n 'base model',\n 'base puppi',\n 'bass',\n 'bass amaz',\n 'bass love',\n 'bass lure',\n 'bast',\n 'bath',\n 'bath suit',\n 'bath time',\n 'bathroom',\n 'bathroom night',\n 'bathroom use',\n 'bathroom wear',\n 'bathroom wrong',\n 'batteri',\n 'batteri 24',\n 'batteri clock',\n 'batteri pressur',\n 'batteri requir',\n 'battle-test',\n 'battle-test action',\n 'bay',\n 'bay premium',\n 'bay+',\n 'bbq',\n 'bbq food',\n 'beach',\n 'beach chair',\n 'beach towel',\n 'bean',\n 'bean bag',\n 'bean chia',\n 'beard',\n 'beard clip',\n 'beard king',\n 'beard product',\n 'beartek',\n 'beartek smartglov',\n 'beat',\n 'beat music',\n 'beatbox',\n 'beatbox contain',\n 'beatbox innov',\n 'beauti',\n 'beauti bar',\n 'beauti classic',\n 'beauti design',\n 'beauti identifi',\n 'beauti innov',\n 'beauti organ',\n 'beauti product',\n 'beauti way',\n 'becom',\n 'becom creepi',\n 'becom friend',\n 'bed',\n 'bed bean',\n 'bed bug',\n 'bed collar',\n 'bed flat',\n 'bed neck',\n 'bee',\n 'bee free',\n 'beebo',\n 'beebo new',\n 'beef',\n 'beef jerki',\n 'beer',\n 'beer better',\n 'beer blizzard',\n 'beer bottl',\n 'beer cup',\n 'beer fizzic',\n 'beer make',\n 'beer soda',\n 'beer tast',\n 'beet',\n 'beet allow',\n 'beg',\n 'beg merci',\n 'begin',\n 'begin craft',\n 'belly\\x9d',\n 'belly\\x9d phone',\n 'belt',\n 'belt accessori',\n 'belt belt',\n 'belt buckl',\n 'belt modern',\n 'belt purchas',\n 'belt reinvent',\n 'belt special',\n 'belt strap',\n 'belt use',\n 'bench',\n 'bench creat',\n 'bench set',\n 'bend',\n 'bend break',\n 'bendabl',\n 'bendabl construct',\n 'beneath',\n 'beneath make',\n 'benefit',\n 'berri',\n 'berri mix',\n 'best',\n 'best anim',\n 'best bike',\n 'best em',\n 'best friend',\n 'best ham',\n 'best primarili',\n 'best restaur',\n 'best sell',\n 'best stuck',\n 'best suit',\n 'best techniqu',\n 'best-of-bre',\n 'best-of-bre product',\n 'better',\n 'better bottl',\n 'better glass',\n 'better grip',\n 'better handl',\n 'better inform',\n 'better odor',\n 'better person',\n 'better solut',\n 'better way',\n 'better workout',\n 'betterback',\n 'betterback support',\n 'beverag',\n 'beverag cat',\n 'beverag content',\n 'beverag drinkabl',\n 'beverag holder',\n 'beverag kooler',\n 'beverag koozi',\n 'beverag like',\n 'beverag tast',\n 'beverag temperatur',\n 'bib',\n 'bib use',\n 'bicycl',\n 'bicycl customiz',\n 'bicycl improv',\n 'bicycl men',\n 'biggest',\n 'biggest fish',\n 'bike',\n 'bike confid',\n 'bike help',\n 'bike kazam',\n 'bike kid',\n 'bike leaki',\n 'bike light',\n 'bike make',\n 'bike provid',\n 'bikini',\n 'bikini mix',\n 'billboard',\n 'billboard rareform',\n 'billboard vinyl',\n 'biodegrad',\n 'biodegrad plant-bas',\n 'bird',\n 'bird didnt',\n 'bit',\n 'bit averag',\n 'bit kilter',\n 'bit like',\n 'bite',\n 'bite bring',\n 'bite-s',\n 'bite-s fun',\n 'black',\n 'black acid',\n 'bladder',\n 'bladder problem',\n 'blade',\n 'blade cut',\n 'blanket',\n 'blanket bed',\n 'blanket warmth',\n 'blend',\n 'blend blendtiqu',\n 'blend experi',\n 'blend hardwood',\n 'blend kit',\n 'blend natur',\n 'blend process',\n 'blend select',\n 'blendtiqu',\n 'blendtiqu wine',\n 'bliss',\n 'bliss comfort',\n 'blizzard',\n 'blizzard plastic',\n 'bloat',\n 'bloat ib',\n 'block',\n 'block flexibl',\n 'block light',\n 'block stack',\n 'block underarm',\n 'blond',\n 'blond mapl',\n 'blue',\n 'blue razzberri',\n 'bluetooth',\n 'bluetooth allow',\n 'board',\n 'board better',\n 'board combin',\n 'board compani',\n 'board perfect',\n 'board strap',\n 'board twist',\n 'board workout',\n 'boarder',\n 'boarder avoid',\n 'boat',\n 'boat asid',\n 'boat duck',\n 'boat truck',\n 'bobber',\n 'bobber come',\n 'bobber fisher',\n 'bobber initi',\n 'bobber shell',\n 'bodi',\n 'bodi care',\n 'bodi jewelri',\n 'bodi light',\n 'bodi major',\n 'bodi medic',\n 'bodi scrub',\n 'bodi sore',\n 'bodi spray',\n 'bodi wash',\n 'bodi “',\n 'bold',\n 'bold eco-friendli',\n 'bomb-a-lici',\n 'bomb-a-lici buffalo',\n 'bomba',\n 'bomba offer',\n 'bomba realli',\n 'bone',\n 'bone remov',\n 'book',\n 'book close',\n 'book form',\n 'book lamp',\n 'book remov',\n 'book subscript',\n 'book use',\n 'boom',\n 'boom box',\n 'boost',\n 'boost bar',\n 'boost energi',\n 'boot',\n 'boot interchang',\n 'boot sock',\n 'bootyqueen',\n 'bootyqueen apparel',\n 'boss',\n 'boss competit',\n 'bottl',\n 'bottl advanc',\n 'bottl avoid',\n 'bottl beer',\n 'bottl breacher',\n 'bottl drink',\n 'bottl feed',\n 'bottl hold',\n 'bottl holder',\n 'bottl nnohbo',\n 'bottl open',\n 'bottl style',\n 'bottl unshrinkit',\n 'bottl worth',\n 'bottl “',\n 'bounci',\n 'bounci shini',\n 'bound',\n 'bound sure',\n 'bouquet',\n 'bouquet creat',\n 'bouquet recycl',\n 'bow',\n 'bow tie',\n 'bowel',\n 'bowel movement',\n 'bowl',\n 'bowl built-in',\n 'bowl cook',\n 'bowl glow',\n 'bowl multi-purpos',\n 'bowl rice',\n 'bowl save',\n 'bowl sleev',\n 'bowl spill',\n 'bowti',\n 'bowti hat',\n 'box',\n 'box 21st',\n 'box ad',\n 'box arita',\n 'box collaps',\n 'box design',\n 'box game',\n 'box includ',\n 'box look',\n 'box modern',\n 'box pilot',\n 'box possibl',\n 'box recycl',\n 'box servic',\n 'box sticker',\n 'box use',\n 'box wine',\n 'boy',\n 'boy creativ',\n 'bra',\n 'bra pocket',\n 'bra realli',\n 'bra shefitcr',\n 'brace',\n 'brace act',\n 'brace littl',\n 'bracelet',\n 'bracelet allegedli',\n 'braid',\n 'braid fish',\n 'brain',\n 'brain follow',\n 'brain stimul',\n 'brain supplement',\n 'brake',\n 'brake guardian',\n 'brake reduc',\n 'brake relat',\n 'brakelight',\n 'brakelight true',\n 'brand',\n 'brand barbecu',\n 'brand box',\n 'brand greenbox',\n 'brand market',\n 'brand modern',\n 'brand packag',\n 'brand singl',\n 'brand women',\n 'brazi',\n 'brazi bite',\n 'brazil',\n 'brazil popular',\n 'brazilian',\n 'brazilian chees',\n 'breacher',\n 'breacher help',\n 'bread',\n 'bread brazi',\n 'bread œpao',\n 'break',\n 'break sturdi',\n 'breastfeed',\n 'breastfeed bottl',\n 'breath',\n 'breath hand',\n 'breath reviv',\n 'breathabl',\n 'breathabl waterproof',\n 'breathalyz',\n 'breathalyz smartphon',\n 'brick',\n 'brick wood',\n 'bridal',\n 'bridal buddi',\n 'bride',\n 'bride bag',\n 'bride bathroom',\n 'bright',\n ...]"
     },
     "metadata": {},
     "execution_count": 6
    }
   ],
   "metadata": {},
   "execution_count": 6
  },
  {
   "source": [
    "# Choose features\n",
    "\n",
    "# To include Pitch, comment in next line, and comment out the following line\n",
    "# To exclude Pitch, comment out next line, and comment in the following line\n",
    "\n",
    "selected_features = activity_df\n",
    "# selected_features = pd.DataFrame([])\n",
    "\n",
    "selected_features[\"Gender\"]=data[\"Gender\"]\n",
    "selected_features[\"Category\"]=data[\"Category\"]\n",
    "selected_features[\"Amount_Asked_For\"]=data[\"Amount_Asked_For\"]\n",
    "selected_features[\"Exchange_For_Stake\"]=data[\"Exchange_For_Stake\"]\n",
    "selected_features[\"Valuation\"]=data[\"Valuation\"]\n",
    "selected_features"
   ],
   "cell_type": "code",
   "outputs": [
    {
     "output_type": "execute_result",
     "data": {
      "text/plain": "     -not  -not simpli   10  10 day  10 net  10,000  10,000 run  10-30  \\\n0     0.0          0.0  0.0     0.0     0.0     0.0         0.0    0.0   \n1     0.0          0.0  0.0     0.0     0.0     0.0         0.0    0.0   \n2     0.0          0.0  0.0     0.0     0.0     0.0         0.0    0.0   \n3     0.0          0.0  0.0     0.0     0.0     0.0         0.0    0.0   \n4     0.0          0.0  0.0     0.0     0.0     0.0         0.0    0.0   \n..    ...          ...  ...     ...     ...     ...         ...    ...   \n377   0.0          0.0  0.0     0.0     0.0     0.0         0.0    0.0   \n378   0.0          0.0  0.0     0.0     0.0     0.0         0.0    0.0   \n379   0.0          0.0  0.0     0.0     0.0     0.0         0.0    0.0   \n380   0.0          0.0  0.0     0.0     0.0     0.0         0.0    0.0   \n381   0.0          0.0  0.0     0.0     0.0     0.0         0.0    0.0   \n\n     10-30 minut  100  ...  “ wrap    ”  ” peopl  ” potato  ” prevent  Gender  \\\n0            0.0  0.0  ...     0.0  0.0      0.0       0.0        0.0  Female   \n1            0.0  0.0  ...     0.0  0.0      0.0       0.0        0.0    Male   \n2            0.0  0.0  ...     0.0  0.0      0.0       0.0        0.0  Female   \n3            0.0  0.0  ...     0.0  0.0      0.0       0.0        0.0    Male   \n4            0.0  0.0  ...     0.0  0.0      0.0       0.0        0.0  Female   \n..           ...  ...  ...     ...  ...      ...       ...        ...     ...   \n377          0.0  0.0  ...     0.0  0.0      0.0       0.0        0.0   Mixed   \n378          0.0  0.0  ...     0.0  0.0      0.0       0.0        0.0    Male   \n379          0.0  0.0  ...     0.0  0.0      0.0       0.0        0.0    Male   \n380          0.0  0.0  ...     0.0  0.0      0.0       0.0        0.0  Female   \n381          0.0  0.0  ...     0.0  0.0      0.0       0.0        0.0   Mixed   \n\n                  Category  Amount_Asked_For  Exchange_For_Stake   Valuation  \n0        Health / Wellness             50000                0.15    333333.0  \n1        Food and Beverage            460000                0.10   4600000.0  \n2        Food and Beverage            500000                0.15   3333333.0  \n3     Children / Education            250000                0.10   2500000.0  \n4     Children / Education            250000                0.20   1250000.0  \n..                     ...               ...                 ...         ...  \n377      Food and Beverage            250000                0.05   5000000.0  \n378       Fashion / Beauty            700000                0.07  10000000.0  \n379       Fashion / Beauty            500000                0.10   5000000.0  \n380       Fashion / Beauty             75000                0.10    750000.0  \n381  Media / Entertainment            500000                0.10   5000000.0  \n\n[382 rows x 8639 columns]",
      "text/html": "<div>\n<style scoped>\n    .dataframe tbody tr th:only-of-type {\n        vertical-align: middle;\n    }\n\n    .dataframe tbody tr th {\n        vertical-align: top;\n    }\n\n    .dataframe thead th {\n        text-align: right;\n    }\n</style>\n<table border=\"1\" class=\"dataframe\">\n  <thead>\n    <tr style=\"text-align: right;\">\n      <th></th>\n      <th>-not</th>\n      <th>-not simpli</th>\n      <th>10</th>\n      <th>10 day</th>\n      <th>10 net</th>\n      <th>10,000</th>\n      <th>10,000 run</th>\n      <th>10-30</th>\n      <th>10-30 minut</th>\n      <th>100</th>\n      <th>...</th>\n      <th>“ wrap</th>\n      <th>”</th>\n      <th>” peopl</th>\n      <th>” potato</th>\n      <th>” prevent</th>\n      <th>Gender</th>\n      <th>Category</th>\n      <th>Amount_Asked_For</th>\n      <th>Exchange_For_Stake</th>\n      <th>Valuation</th>\n    </tr>\n  </thead>\n  <tbody>\n    <tr>\n      <td>0</td>\n      <td>0.0</td>\n      <td>0.0</td>\n      <td>0.0</td>\n      <td>0.0</td>\n      <td>0.0</td>\n      <td>0.0</td>\n      <td>0.0</td>\n      <td>0.0</td>\n      <td>0.0</td>\n      <td>0.0</td>\n      <td>...</td>\n      <td>0.0</td>\n      <td>0.0</td>\n      <td>0.0</td>\n      <td>0.0</td>\n      <td>0.0</td>\n      <td>Female</td>\n      <td>Health / Wellness</td>\n      <td>50000</td>\n      <td>0.15</td>\n      <td>333333.0</td>\n    </tr>\n    <tr>\n      <td>1</td>\n      <td>0.0</td>\n      <td>0.0</td>\n      <td>0.0</td>\n      <td>0.0</td>\n      <td>0.0</td>\n      <td>0.0</td>\n      <td>0.0</td>\n      <td>0.0</td>\n      <td>0.0</td>\n      <td>0.0</td>\n      <td>...</td>\n      <td>0.0</td>\n      <td>0.0</td>\n      <td>0.0</td>\n      <td>0.0</td>\n      <td>0.0</td>\n      <td>Male</td>\n      <td>Food and Beverage</td>\n      <td>460000</td>\n      <td>0.10</td>\n      <td>4600000.0</td>\n    </tr>\n    <tr>\n      <td>2</td>\n      <td>0.0</td>\n      <td>0.0</td>\n      <td>0.0</td>\n      <td>0.0</td>\n      <td>0.0</td>\n      <td>0.0</td>\n      <td>0.0</td>\n      <td>0.0</td>\n      <td>0.0</td>\n      <td>0.0</td>\n      <td>...</td>\n      <td>0.0</td>\n      <td>0.0</td>\n      <td>0.0</td>\n      <td>0.0</td>\n      <td>0.0</td>\n      <td>Female</td>\n      <td>Food and Beverage</td>\n      <td>500000</td>\n      <td>0.15</td>\n      <td>3333333.0</td>\n    </tr>\n    <tr>\n      <td>3</td>\n      <td>0.0</td>\n      <td>0.0</td>\n      <td>0.0</td>\n      <td>0.0</td>\n      <td>0.0</td>\n      <td>0.0</td>\n      <td>0.0</td>\n      <td>0.0</td>\n      <td>0.0</td>\n      <td>0.0</td>\n      <td>...</td>\n      <td>0.0</td>\n      <td>0.0</td>\n      <td>0.0</td>\n      <td>0.0</td>\n      <td>0.0</td>\n      <td>Male</td>\n      <td>Children / Education</td>\n      <td>250000</td>\n      <td>0.10</td>\n      <td>2500000.0</td>\n    </tr>\n    <tr>\n      <td>4</td>\n      <td>0.0</td>\n      <td>0.0</td>\n      <td>0.0</td>\n      <td>0.0</td>\n      <td>0.0</td>\n      <td>0.0</td>\n      <td>0.0</td>\n      <td>0.0</td>\n      <td>0.0</td>\n      <td>0.0</td>\n      <td>...</td>\n      <td>0.0</td>\n      <td>0.0</td>\n      <td>0.0</td>\n      <td>0.0</td>\n      <td>0.0</td>\n      <td>Female</td>\n      <td>Children / Education</td>\n      <td>250000</td>\n      <td>0.20</td>\n      <td>1250000.0</td>\n    </tr>\n    <tr>\n      <td>...</td>\n      <td>...</td>\n      <td>...</td>\n      <td>...</td>\n      <td>...</td>\n      <td>...</td>\n      <td>...</td>\n      <td>...</td>\n      <td>...</td>\n      <td>...</td>\n      <td>...</td>\n      <td>...</td>\n      <td>...</td>\n      <td>...</td>\n      <td>...</td>\n      <td>...</td>\n      <td>...</td>\n      <td>...</td>\n      <td>...</td>\n      <td>...</td>\n      <td>...</td>\n      <td>...</td>\n    </tr>\n    <tr>\n      <td>377</td>\n      <td>0.0</td>\n      <td>0.0</td>\n      <td>0.0</td>\n      <td>0.0</td>\n      <td>0.0</td>\n      <td>0.0</td>\n      <td>0.0</td>\n      <td>0.0</td>\n      <td>0.0</td>\n      <td>0.0</td>\n      <td>...</td>\n      <td>0.0</td>\n      <td>0.0</td>\n      <td>0.0</td>\n      <td>0.0</td>\n      <td>0.0</td>\n      <td>Mixed</td>\n      <td>Food and Beverage</td>\n      <td>250000</td>\n      <td>0.05</td>\n      <td>5000000.0</td>\n    </tr>\n    <tr>\n      <td>378</td>\n      <td>0.0</td>\n      <td>0.0</td>\n      <td>0.0</td>\n      <td>0.0</td>\n      <td>0.0</td>\n      <td>0.0</td>\n      <td>0.0</td>\n      <td>0.0</td>\n      <td>0.0</td>\n      <td>0.0</td>\n      <td>...</td>\n      <td>0.0</td>\n      <td>0.0</td>\n      <td>0.0</td>\n      <td>0.0</td>\n      <td>0.0</td>\n      <td>Male</td>\n      <td>Fashion / Beauty</td>\n      <td>700000</td>\n      <td>0.07</td>\n      <td>10000000.0</td>\n    </tr>\n    <tr>\n      <td>379</td>\n      <td>0.0</td>\n      <td>0.0</td>\n      <td>0.0</td>\n      <td>0.0</td>\n      <td>0.0</td>\n      <td>0.0</td>\n      <td>0.0</td>\n      <td>0.0</td>\n      <td>0.0</td>\n      <td>0.0</td>\n      <td>...</td>\n      <td>0.0</td>\n      <td>0.0</td>\n      <td>0.0</td>\n      <td>0.0</td>\n      <td>0.0</td>\n      <td>Male</td>\n      <td>Fashion / Beauty</td>\n      <td>500000</td>\n      <td>0.10</td>\n      <td>5000000.0</td>\n    </tr>\n    <tr>\n      <td>380</td>\n      <td>0.0</td>\n      <td>0.0</td>\n      <td>0.0</td>\n      <td>0.0</td>\n      <td>0.0</td>\n      <td>0.0</td>\n      <td>0.0</td>\n      <td>0.0</td>\n      <td>0.0</td>\n      <td>0.0</td>\n      <td>...</td>\n      <td>0.0</td>\n      <td>0.0</td>\n      <td>0.0</td>\n      <td>0.0</td>\n      <td>0.0</td>\n      <td>Female</td>\n      <td>Fashion / Beauty</td>\n      <td>75000</td>\n      <td>0.10</td>\n      <td>750000.0</td>\n    </tr>\n    <tr>\n      <td>381</td>\n      <td>0.0</td>\n      <td>0.0</td>\n      <td>0.0</td>\n      <td>0.0</td>\n      <td>0.0</td>\n      <td>0.0</td>\n      <td>0.0</td>\n      <td>0.0</td>\n      <td>0.0</td>\n      <td>0.0</td>\n      <td>...</td>\n      <td>0.0</td>\n      <td>0.0</td>\n      <td>0.0</td>\n      <td>0.0</td>\n      <td>0.0</td>\n      <td>Mixed</td>\n      <td>Media / Entertainment</td>\n      <td>500000</td>\n      <td>0.10</td>\n      <td>5000000.0</td>\n    </tr>\n  </tbody>\n</table>\n<p>382 rows × 8639 columns</p>\n</div>"
     },
     "metadata": {},
     "execution_count": 7
    }
   ],
   "metadata": {},
   "execution_count": 7
  },
  {
   "source": [
    "selected_features = pd.get_dummies(selected_features)\n",
    "selected_features"
   ],
   "cell_type": "code",
   "outputs": [
    {
     "output_type": "execute_result",
     "data": {
      "text/plain": "     -not  -not simpli   10  10 day  10 net  10,000  10,000 run  10-30  \\\n0     0.0          0.0  0.0     0.0     0.0     0.0         0.0    0.0   \n1     0.0          0.0  0.0     0.0     0.0     0.0         0.0    0.0   \n2     0.0          0.0  0.0     0.0     0.0     0.0         0.0    0.0   \n3     0.0          0.0  0.0     0.0     0.0     0.0         0.0    0.0   \n4     0.0          0.0  0.0     0.0     0.0     0.0         0.0    0.0   \n..    ...          ...  ...     ...     ...     ...         ...    ...   \n377   0.0          0.0  0.0     0.0     0.0     0.0         0.0    0.0   \n378   0.0          0.0  0.0     0.0     0.0     0.0         0.0    0.0   \n379   0.0          0.0  0.0     0.0     0.0     0.0         0.0    0.0   \n380   0.0          0.0  0.0     0.0     0.0     0.0         0.0    0.0   \n381   0.0          0.0  0.0     0.0     0.0     0.0         0.0    0.0   \n\n     10-30 minut  100  ...  Category_Fitness / Sports / Outdoor  \\\n0            0.0  0.0  ...                                    0   \n1            0.0  0.0  ...                                    0   \n2            0.0  0.0  ...                                    0   \n3            0.0  0.0  ...                                    0   \n4            0.0  0.0  ...                                    0   \n..           ...  ...  ...                                  ...   \n377          0.0  0.0  ...                                    0   \n378          0.0  0.0  ...                                    0   \n379          0.0  0.0  ...                                    0   \n380          0.0  0.0  ...                                    0   \n381          0.0  0.0  ...                                    0   \n\n     Category_Food and Beverage  Category_Green / Clean Tech  \\\n0                             0                            0   \n1                             1                            0   \n2                             1                            0   \n3                             0                            0   \n4                             0                            0   \n..                          ...                          ...   \n377                           1                            0   \n378                           0                            0   \n379                           0                            0   \n380                           0                            0   \n381                           0                            0   \n\n     Category_Health / Wellness  Category_Lifestyle / Home  \\\n0                             1                          0   \n1                             0                          0   \n2                             0                          0   \n3                             0                          0   \n4                             0                          0   \n..                          ...                        ...   \n377                           0                          0   \n378                           0                          0   \n379                           0                          0   \n380                           0                          0   \n381                           0                          0   \n\n     Category_Media / Entertainment  Category_Pet Products  \\\n0                                 0                      0   \n1                                 0                      0   \n2                                 0                      0   \n3                                 0                      0   \n4                                 0                      0   \n..                              ...                    ...   \n377                               0                      0   \n378                               0                      0   \n379                               0                      0   \n380                               0                      0   \n381                               1                      0   \n\n     Category_Software / Tech  Category_Travel  Category_Uncertain / Other  \n0                           0                0                           0  \n1                           0                0                           0  \n2                           0                0                           0  \n3                           0                0                           0  \n4                           0                0                           0  \n..                        ...              ...                         ...  \n377                         0                0                           0  \n378                         0                0                           0  \n379                         0                0                           0  \n380                         0                0                           0  \n381                         0                0                           0  \n\n[382 rows x 8654 columns]",
      "text/html": "<div>\n<style scoped>\n    .dataframe tbody tr th:only-of-type {\n        vertical-align: middle;\n    }\n\n    .dataframe tbody tr th {\n        vertical-align: top;\n    }\n\n    .dataframe thead th {\n        text-align: right;\n    }\n</style>\n<table border=\"1\" class=\"dataframe\">\n  <thead>\n    <tr style=\"text-align: right;\">\n      <th></th>\n      <th>-not</th>\n      <th>-not simpli</th>\n      <th>10</th>\n      <th>10 day</th>\n      <th>10 net</th>\n      <th>10,000</th>\n      <th>10,000 run</th>\n      <th>10-30</th>\n      <th>10-30 minut</th>\n      <th>100</th>\n      <th>...</th>\n      <th>Category_Fitness / Sports / Outdoor</th>\n      <th>Category_Food and Beverage</th>\n      <th>Category_Green / Clean Tech</th>\n      <th>Category_Health / Wellness</th>\n      <th>Category_Lifestyle / Home</th>\n      <th>Category_Media / Entertainment</th>\n      <th>Category_Pet Products</th>\n      <th>Category_Software / Tech</th>\n      <th>Category_Travel</th>\n      <th>Category_Uncertain / Other</th>\n    </tr>\n  </thead>\n  <tbody>\n    <tr>\n      <td>0</td>\n      <td>0.0</td>\n      <td>0.0</td>\n      <td>0.0</td>\n      <td>0.0</td>\n      <td>0.0</td>\n      <td>0.0</td>\n      <td>0.0</td>\n      <td>0.0</td>\n      <td>0.0</td>\n      <td>0.0</td>\n      <td>...</td>\n      <td>0</td>\n      <td>0</td>\n      <td>0</td>\n      <td>1</td>\n      <td>0</td>\n      <td>0</td>\n      <td>0</td>\n      <td>0</td>\n      <td>0</td>\n      <td>0</td>\n    </tr>\n    <tr>\n      <td>1</td>\n      <td>0.0</td>\n      <td>0.0</td>\n      <td>0.0</td>\n      <td>0.0</td>\n      <td>0.0</td>\n      <td>0.0</td>\n      <td>0.0</td>\n      <td>0.0</td>\n      <td>0.0</td>\n      <td>0.0</td>\n      <td>...</td>\n      <td>0</td>\n      <td>1</td>\n      <td>0</td>\n      <td>0</td>\n      <td>0</td>\n      <td>0</td>\n      <td>0</td>\n      <td>0</td>\n      <td>0</td>\n      <td>0</td>\n    </tr>\n    <tr>\n      <td>2</td>\n      <td>0.0</td>\n      <td>0.0</td>\n      <td>0.0</td>\n      <td>0.0</td>\n      <td>0.0</td>\n      <td>0.0</td>\n      <td>0.0</td>\n      <td>0.0</td>\n      <td>0.0</td>\n      <td>0.0</td>\n      <td>...</td>\n      <td>0</td>\n      <td>1</td>\n      <td>0</td>\n      <td>0</td>\n      <td>0</td>\n      <td>0</td>\n      <td>0</td>\n      <td>0</td>\n      <td>0</td>\n      <td>0</td>\n    </tr>\n    <tr>\n      <td>3</td>\n      <td>0.0</td>\n      <td>0.0</td>\n      <td>0.0</td>\n      <td>0.0</td>\n      <td>0.0</td>\n      <td>0.0</td>\n      <td>0.0</td>\n      <td>0.0</td>\n      <td>0.0</td>\n      <td>0.0</td>\n      <td>...</td>\n      <td>0</td>\n      <td>0</td>\n      <td>0</td>\n      <td>0</td>\n      <td>0</td>\n      <td>0</td>\n      <td>0</td>\n      <td>0</td>\n      <td>0</td>\n      <td>0</td>\n    </tr>\n    <tr>\n      <td>4</td>\n      <td>0.0</td>\n      <td>0.0</td>\n      <td>0.0</td>\n      <td>0.0</td>\n      <td>0.0</td>\n      <td>0.0</td>\n      <td>0.0</td>\n      <td>0.0</td>\n      <td>0.0</td>\n      <td>0.0</td>\n      <td>...</td>\n      <td>0</td>\n      <td>0</td>\n      <td>0</td>\n      <td>0</td>\n      <td>0</td>\n      <td>0</td>\n      <td>0</td>\n      <td>0</td>\n      <td>0</td>\n      <td>0</td>\n    </tr>\n    <tr>\n      <td>...</td>\n      <td>...</td>\n      <td>...</td>\n      <td>...</td>\n      <td>...</td>\n      <td>...</td>\n      <td>...</td>\n      <td>...</td>\n      <td>...</td>\n      <td>...</td>\n      <td>...</td>\n      <td>...</td>\n      <td>...</td>\n      <td>...</td>\n      <td>...</td>\n      <td>...</td>\n      <td>...</td>\n      <td>...</td>\n      <td>...</td>\n      <td>...</td>\n      <td>...</td>\n      <td>...</td>\n    </tr>\n    <tr>\n      <td>377</td>\n      <td>0.0</td>\n      <td>0.0</td>\n      <td>0.0</td>\n      <td>0.0</td>\n      <td>0.0</td>\n      <td>0.0</td>\n      <td>0.0</td>\n      <td>0.0</td>\n      <td>0.0</td>\n      <td>0.0</td>\n      <td>...</td>\n      <td>0</td>\n      <td>1</td>\n      <td>0</td>\n      <td>0</td>\n      <td>0</td>\n      <td>0</td>\n      <td>0</td>\n      <td>0</td>\n      <td>0</td>\n      <td>0</td>\n    </tr>\n    <tr>\n      <td>378</td>\n      <td>0.0</td>\n      <td>0.0</td>\n      <td>0.0</td>\n      <td>0.0</td>\n      <td>0.0</td>\n      <td>0.0</td>\n      <td>0.0</td>\n      <td>0.0</td>\n      <td>0.0</td>\n      <td>0.0</td>\n      <td>...</td>\n      <td>0</td>\n      <td>0</td>\n      <td>0</td>\n      <td>0</td>\n      <td>0</td>\n      <td>0</td>\n      <td>0</td>\n      <td>0</td>\n      <td>0</td>\n      <td>0</td>\n    </tr>\n    <tr>\n      <td>379</td>\n      <td>0.0</td>\n      <td>0.0</td>\n      <td>0.0</td>\n      <td>0.0</td>\n      <td>0.0</td>\n      <td>0.0</td>\n      <td>0.0</td>\n      <td>0.0</td>\n      <td>0.0</td>\n      <td>0.0</td>\n      <td>...</td>\n      <td>0</td>\n      <td>0</td>\n      <td>0</td>\n      <td>0</td>\n      <td>0</td>\n      <td>0</td>\n      <td>0</td>\n      <td>0</td>\n      <td>0</td>\n      <td>0</td>\n    </tr>\n    <tr>\n      <td>380</td>\n      <td>0.0</td>\n      <td>0.0</td>\n      <td>0.0</td>\n      <td>0.0</td>\n      <td>0.0</td>\n      <td>0.0</td>\n      <td>0.0</td>\n      <td>0.0</td>\n      <td>0.0</td>\n      <td>0.0</td>\n      <td>...</td>\n      <td>0</td>\n      <td>0</td>\n      <td>0</td>\n      <td>0</td>\n      <td>0</td>\n      <td>0</td>\n      <td>0</td>\n      <td>0</td>\n      <td>0</td>\n      <td>0</td>\n    </tr>\n    <tr>\n      <td>381</td>\n      <td>0.0</td>\n      <td>0.0</td>\n      <td>0.0</td>\n      <td>0.0</td>\n      <td>0.0</td>\n      <td>0.0</td>\n      <td>0.0</td>\n      <td>0.0</td>\n      <td>0.0</td>\n      <td>0.0</td>\n      <td>...</td>\n      <td>0</td>\n      <td>0</td>\n      <td>0</td>\n      <td>0</td>\n      <td>0</td>\n      <td>1</td>\n      <td>0</td>\n      <td>0</td>\n      <td>0</td>\n      <td>0</td>\n    </tr>\n  </tbody>\n</table>\n<p>382 rows × 8654 columns</p>\n</div>"
     },
     "metadata": {},
     "execution_count": 8
    }
   ],
   "metadata": {},
   "execution_count": 8
  },
  {
   "source": [
    "selected_features.columns"
   ],
   "cell_type": "code",
   "outputs": [
    {
     "output_type": "execute_result",
     "data": {
      "text/plain": "Index(['-not', '-not simpli', '10', '10 day', '10 net', '10,000', '10,000 run',\n       '10-30', '10-30 minut', '100',\n       ...\n       'Category_Fitness / Sports / Outdoor', 'Category_Food and Beverage',\n       'Category_Green / Clean Tech', 'Category_Health / Wellness',\n       'Category_Lifestyle / Home', 'Category_Media / Entertainment',\n       'Category_Pet Products', 'Category_Software / Tech', 'Category_Travel',\n       'Category_Uncertain / Other'],\n      dtype='object', length=8654)"
     },
     "metadata": {},
     "execution_count": 9
    }
   ],
   "metadata": {},
   "execution_count": 9
  },
  {
   "source": [
    "model = MultinomialNB()\n",
    "X_smote, y_smote = SMOTE().fit_sample(selected_features, data[[shark_to_model]].values.ravel())\n",
    "X = X_smote\n",
    "y = y_smote\n",
    "\n",
    "# X = selected_features\n",
    "# y = data[[shark_to_model]].values.ravel()\n",
    "print(X.shape)\n",
    "print(y.shape)"
   ],
   "cell_type": "code",
   "outputs": [
    {
     "output_type": "stream",
     "name": "stdout",
     "text": "(553, 8654)\n(553,)\n"
    }
   ],
   "metadata": {},
   "execution_count": 10
  },
  {
   "source": [
    "# from sklearn.feature_selection import SelectKBest\n",
    "# from sklearn.feature_selection import chi2, f_classif\n",
    "# #apply SelectKBest class to extract top 10 best features\n",
    "# bestfeatures = SelectKBest(score_func=f_classif, k=6)\n",
    "# fit = bestfeatures.fit(X,y)\n",
    "# dfscores = pd.DataFrame(fit.scores_)\n",
    "# dfpvalues = pd.DataFrame(fit.pvalues_)\n",
    "# dfcolumns = pd.DataFrame(X.columns)\n",
    "# #concat two dataframes for better visualization \n",
    "# featureScores = pd.concat([dfcolumns,dfscores,dfpvalues],axis=1)\n",
    "# featureScores.columns = ['Specs','Score','PValue']  #naming the dataframe columns\n",
    "# print(featureScores.nlargest(20,'Score'))  #print 10 best features"
   ],
   "cell_type": "code",
   "outputs": [],
   "metadata": {},
   "execution_count": 11
  },
  {
   "source": [
    "# from sklearn.feature_selection import SelectKBest\n",
    "# from sklearn.feature_selection import chi2, f_classif\n",
    "# #apply SelectKBest class to extract top 10 best features\n",
    "# bestfeatures = SelectKBest(score_func=chi2, k=6)\n",
    "# fit = bestfeatures.fit(X,y)\n",
    "# dfscores = pd.DataFrame(fit.scores_)\n",
    "# dfpvalues = pd.DataFrame(fit.pvalues_)\n",
    "# dfcolumns = pd.DataFrame(X.columns)\n",
    "# #concat two dataframes for better visualization \n",
    "# featureScores = pd.concat([dfcolumns,dfscores,dfpvalues],axis=1)\n",
    "# featureScores.columns = ['Specs','Score','PValue']  #naming the dataframe columns\n",
    "# print(featureScores.nlargest(20,'Score'))  #print 10 best features"
   ],
   "cell_type": "code",
   "outputs": [],
   "metadata": {},
   "execution_count": 12
  },
  {
   "source": [
    "X_train, X_test, y_train, y_test = train_test_split(X, y, random_state=42)"
   ],
   "cell_type": "code",
   "outputs": [],
   "metadata": {},
   "execution_count": 13
  },
  {
   "source": [
    "model.fit(X_train, y_train.ravel())"
   ],
   "cell_type": "code",
   "outputs": [
    {
     "output_type": "execute_result",
     "data": {
      "text/plain": "MultinomialNB(alpha=1.0, class_prior=None, fit_prior=True)"
     },
     "metadata": {},
     "execution_count": 14
    }
   ],
   "metadata": {},
   "execution_count": 14
  },
  {
   "source": [
    "y_pred = model.predict(X_test)"
   ],
   "cell_type": "code",
   "outputs": [],
   "metadata": {},
   "execution_count": 15
  },
  {
   "source": [
    "pd.DataFrame({\"actual\": y_test.reshape(-1), \"prediction\": y_pred.reshape(-1)})"
   ],
   "cell_type": "code",
   "outputs": [
    {
     "output_type": "execute_result",
     "data": {
      "text/plain": "               actual        prediction\n0     Robert Herjavec      Daymond John\n1        Daymond John  Barbara Corcoran\n2     Robert Herjavec   Robert Herjavec\n3       Kevin O'Leary      Lori Greiner\n4          Mark Cuban     Kevin O'Leary\n..                ...               ...\n134     Kevin O'Leary     Kevin O'Leary\n135  Barbara Corcoran  Barbara Corcoran\n136      Daymond John      Lori Greiner\n137      Daymond John  Barbara Corcoran\n138      Lori Greiner  Barbara Corcoran\n\n[139 rows x 2 columns]",
      "text/html": "<div>\n<style scoped>\n    .dataframe tbody tr th:only-of-type {\n        vertical-align: middle;\n    }\n\n    .dataframe tbody tr th {\n        vertical-align: top;\n    }\n\n    .dataframe thead th {\n        text-align: right;\n    }\n</style>\n<table border=\"1\" class=\"dataframe\">\n  <thead>\n    <tr style=\"text-align: right;\">\n      <th></th>\n      <th>actual</th>\n      <th>prediction</th>\n    </tr>\n  </thead>\n  <tbody>\n    <tr>\n      <td>0</td>\n      <td>Robert Herjavec</td>\n      <td>Daymond John</td>\n    </tr>\n    <tr>\n      <td>1</td>\n      <td>Daymond John</td>\n      <td>Barbara Corcoran</td>\n    </tr>\n    <tr>\n      <td>2</td>\n      <td>Robert Herjavec</td>\n      <td>Robert Herjavec</td>\n    </tr>\n    <tr>\n      <td>3</td>\n      <td>Kevin O'Leary</td>\n      <td>Lori Greiner</td>\n    </tr>\n    <tr>\n      <td>4</td>\n      <td>Mark Cuban</td>\n      <td>Kevin O'Leary</td>\n    </tr>\n    <tr>\n      <td>...</td>\n      <td>...</td>\n      <td>...</td>\n    </tr>\n    <tr>\n      <td>134</td>\n      <td>Kevin O'Leary</td>\n      <td>Kevin O'Leary</td>\n    </tr>\n    <tr>\n      <td>135</td>\n      <td>Barbara Corcoran</td>\n      <td>Barbara Corcoran</td>\n    </tr>\n    <tr>\n      <td>136</td>\n      <td>Daymond John</td>\n      <td>Lori Greiner</td>\n    </tr>\n    <tr>\n      <td>137</td>\n      <td>Daymond John</td>\n      <td>Barbara Corcoran</td>\n    </tr>\n    <tr>\n      <td>138</td>\n      <td>Lori Greiner</td>\n      <td>Barbara Corcoran</td>\n    </tr>\n  </tbody>\n</table>\n<p>139 rows × 2 columns</p>\n</div>"
     },
     "metadata": {},
     "execution_count": 16
    }
   ],
   "metadata": {},
   "execution_count": 16
  },
  {
   "source": [
    "from sklearn.metrics import accuracy_score\n",
    "accuracy_score(y_test,y_pred)"
   ],
   "cell_type": "code",
   "outputs": [
    {
     "output_type": "execute_result",
     "data": {
      "text/plain": "0.18705035971223022"
     },
     "metadata": {},
     "execution_count": 17
    }
   ],
   "metadata": {},
   "execution_count": 17
  },
  {
   "source": [
    "# Import ML models from sklearn\n",
    "from sklearn.linear_model import LogisticRegression # Regression classifier\n",
    "from sklearn.tree import DecisionTreeClassifier # Decision Tree classifier\n",
    "from sklearn import svm # Support Vector Machine\n",
    "from sklearn.linear_model import SGDClassifier # Stochastic Gradient Descent Classifier\n",
    "from sklearn.ensemble import RandomForestClassifier, GradientBoostingClassifier # Random Forest and Gradient Boosting Classifier\n",
    "from sklearn.naive_bayes import MultinomialNB # Naive Bayes Classifier \n",
    "from sklearn.metrics import accuracy_score, recall_score, confusion_matrix # Some metrics to check the performance of the models"
   ],
   "cell_type": "code",
   "outputs": [],
   "metadata": {},
   "execution_count": 18
  },
  {
   "source": [
    "# Setting parameters for each algorithm - these are tunable to achieve max accuracy\n",
    "\n",
    "Classifiers = {'LR':LogisticRegression(random_state=10,C=5,max_iter=300, solver='lbfgs')\n",
    "               ,'DTC':DecisionTreeClassifier(random_state=10,min_samples_leaf=2)\n",
    "               ,'RF':RandomForestClassifier(random_state=10,n_estimators=100,n_jobs=-1)\n",
    "               # ,'GBC':GradientBoostingClassifier(random_state=10,n_estimators=400,learning_rate=0.2)\n",
    "               ,'SGD':SGDClassifier(loss=\"hinge\", penalty=\"l2\")\n",
    "               # ,'SVM':svm.SVC(kernel='linear', C=0.1)\n",
    "               ,'NB':MultinomialNB(alpha=.05)\n",
    "               }"
   ],
   "cell_type": "code",
   "outputs": [],
   "metadata": {},
   "execution_count": 19
  },
  {
   "source": [
    "Classifiers.keys()"
   ],
   "cell_type": "code",
   "outputs": [
    {
     "output_type": "execute_result",
     "data": {
      "text/plain": "dict_keys(['LR', 'DTC', 'RF', 'SGD', 'NB'])"
     },
     "metadata": {},
     "execution_count": 20
    }
   ],
   "metadata": {},
   "execution_count": 20
  },
  {
   "source": [
    "# Create a pipeline so you can reuse the code\n",
    "\n",
    "def ML_Pipeline(clf_name):\n",
    "    clf = Classifiers[clf_name]\n",
    "    fit = clf.fit(X, y.ravel())\n",
    "    y_pred = clf.predict(X_test)\n",
    "    # Accuracy = accuracy_score(y_test,y_pred)\n",
    "    # Precision = metrics.precision_score(y_test,y_pred)\n",
    "    # Recall = recall_score(y_test,y_pred)\n",
    "    # Confusion_matrix = confusion_matrix(y_test,y_pred)\n",
    "    # print('Classifier = '+(clf_name))\n",
    "    # print('Accuracy = '+str(Accuracy))\n",
    "    # print('Precision = '+str(Precision))\n",
    "    # print('Recall = '+str(Recall))\n",
    "    # print(Confusion_matrix)\n",
    "    # print('==='*20) \n",
    "    return clf"
   ],
   "cell_type": "code",
   "outputs": [],
   "metadata": {},
   "execution_count": 21
  },
  {
   "source": [
    "clf_dict = []\n",
    "for clf_name in Classifiers.keys():\n",
    "    clf = Classifiers[clf_name]\n",
    "    fit = clf.fit(X_train, y_train.ravel())\n",
    "    y_pred = clf.predict(X_test)\n",
    "    Accuracy = accuracy_score(y_test,y_pred)\n",
    "    # Precision = metrics.precision_score(y_test,y_pred)\n",
    "    # Recall = recall_score(y_test,y_pred)\n",
    "    Confusion_matrix = confusion_matrix(y_test,y_pred)\n",
    "    clf_dict.append({'Classifier': clf_name, 'Accuracy': Accuracy \n",
    "    # ,'Precision': Precision, 'Recall': Recall\n",
    "    })\n",
    "    print('Classifier = '+(clf_name))\n",
    "    print('Accuracy = '+str(Accuracy))\n",
    "    # print('Precision = '+str(Precision))\n",
    "    # print('Recall = '+str(Recall))\n",
    "    print(Confusion_matrix)\n",
    "    print('==='*20)\n",
    ""
   ],
   "cell_type": "code",
   "outputs": [
    {
     "output_type": "stream",
     "name": "stdout",
     "text": "Classifier = LR\nAccuracy = 0.1079136690647482\n[[ 0  0  0  0  9  0 13]\n [ 0  0  0  0 10  0 17]\n [ 0  0  0  0  5  0 10]\n [ 0  0  0  0 12  0  9]\n [ 0  0  0  0  8  0  6]\n [ 0  0  0  3  5  0 12]\n [ 0  0  0  0 13  0  7]]\n============================================================\nClassifier = DTC\nAccuracy = 0.3669064748201439\n[[ 6  3  3  6  4  0  0]\n [ 8  8  2  4  2  1  2]\n [ 2  2  7  0  4  0  0]\n [ 4  5  0  7  3  1  1]\n [ 2  4  2  2  1  0  3]\n [ 0  3  1  3  0 11  2]\n [ 1  3  0  0  4  1 11]]\n============================================================\nClassifier = RF\nAccuracy = 0.5683453237410072\n[[15  2  1  1  3  0  0]\n [11 10  0  4  2  0  0]\n [ 4  0 10  0  1  0  0]\n [ 4  3  0 12  2  0  0]\n [ 6  1  1  3  3  0  0]\n [ 3  0  0  1  3 13  0]\n [ 3  0  1  0  0  0 16]]\n============================================================\nClassifier = SGD\nAccuracy = 0.14388489208633093\n[[ 0  0  0  0  0 22  0]\n [ 0  0  0  0  0 27  0]\n [ 0  0  0  0  0 15  0]\n [ 0  0  0  0  0 21  0]\n [ 0  0  0  0  0 13  1]\n [ 0  0  0  0  0 20  0]\n [ 0  0  0  0  0 20  0]]\n============================================================\nClassifier = NB\nAccuracy = 0.18705035971223022\n[[13  0  0  5  0  4  0]\n [15  2  1  5  0  4  0]\n [ 9  0  1  2  0  2  1]\n [ 7  1  0  5  0  7  1]\n [ 5  1  0  1  0  7  0]\n [11  0  0  4  0  4  1]\n [ 6  1  0  6  0  6  1]]\n============================================================\n"
    }
   ],
   "metadata": {},
   "execution_count": 24
  },
  {
   "source": [
    "clf_df = pd.DataFrame(clf_dict)\n",
    "clf_df"
   ],
   "cell_type": "code",
   "outputs": [
    {
     "output_type": "execute_result",
     "data": {
      "text/plain": "  Classifier  Accuracy\n0         LR  0.107914\n1        DTC  0.366906\n2         RF  0.568345\n3        SGD  0.143885\n4         NB  0.187050",
      "text/html": "<div>\n<style scoped>\n    .dataframe tbody tr th:only-of-type {\n        vertical-align: middle;\n    }\n\n    .dataframe tbody tr th {\n        vertical-align: top;\n    }\n\n    .dataframe thead th {\n        text-align: right;\n    }\n</style>\n<table border=\"1\" class=\"dataframe\">\n  <thead>\n    <tr style=\"text-align: right;\">\n      <th></th>\n      <th>Classifier</th>\n      <th>Accuracy</th>\n    </tr>\n  </thead>\n  <tbody>\n    <tr>\n      <td>0</td>\n      <td>LR</td>\n      <td>0.107914</td>\n    </tr>\n    <tr>\n      <td>1</td>\n      <td>DTC</td>\n      <td>0.366906</td>\n    </tr>\n    <tr>\n      <td>2</td>\n      <td>RF</td>\n      <td>0.568345</td>\n    </tr>\n    <tr>\n      <td>3</td>\n      <td>SGD</td>\n      <td>0.143885</td>\n    </tr>\n    <tr>\n      <td>4</td>\n      <td>NB</td>\n      <td>0.187050</td>\n    </tr>\n  </tbody>\n</table>\n</div>"
     },
     "metadata": {},
     "execution_count": 25
    }
   ],
   "metadata": {},
   "execution_count": 25
  },
  {
   "source": [
    "clf_df['Accuracy'].max()"
   ],
   "cell_type": "code",
   "outputs": [
    {
     "output_type": "execute_result",
     "data": {
      "text/plain": "0.5683453237410072"
     },
     "metadata": {},
     "execution_count": 26
    }
   ],
   "metadata": {},
   "execution_count": 26
  },
  {
   "source": [
    "best_clf = clf_df.loc[clf_df['Accuracy'].idxmax(),'Classifier']\n",
    "best_clf"
   ],
   "cell_type": "code",
   "outputs": [
    {
     "output_type": "execute_result",
     "data": {
      "text/plain": "'RF'"
     },
     "metadata": {},
     "execution_count": 27
    }
   ],
   "metadata": {},
   "execution_count": 27
  },
  {
   "source": [
    "best_model = ML_Pipeline(best_clf)\n",
    "best_model\n",
    ""
   ],
   "cell_type": "code",
   "outputs": [
    {
     "output_type": "execute_result",
     "data": {
      "text/plain": "RandomForestClassifier(bootstrap=True, ccp_alpha=0.0, class_weight=None,\n                       criterion='gini', max_depth=None, max_features='auto',\n                       max_leaf_nodes=None, max_samples=None,\n                       min_impurity_decrease=0.0, min_impurity_split=None,\n                       min_samples_leaf=1, min_samples_split=2,\n                       min_weight_fraction_leaf=0.0, n_estimators=100,\n                       n_jobs=-1, oob_score=False, random_state=10, verbose=0,\n                       warm_start=False)"
     },
     "metadata": {},
     "execution_count": 28
    }
   ],
   "metadata": {},
   "execution_count": 28
  },
  {
   "source": [
    "from sklearn.externals import joblib\n",
    "joblib.dump(best_model, f\"{shark_to_model}_model.pkl\")"
   ],
   "cell_type": "code",
   "outputs": [
    {
     "output_type": "stream",
     "name": "stderr",
     "text": "C:\\Users\\atk285\\AppData\\Local\\Continuum\\anaconda3\\envs\\PythonData\\lib\\site-packages\\sklearn\\externals\\joblib\\__init__.py:15: FutureWarning: sklearn.externals.joblib is deprecated in 0.21 and will be removed in 0.23. Please import this functionality directly from joblib, which can be installed with: pip install joblib. If this warning is raised when loading pickled models, you may need to re-serialize those models with scikit-learn 0.21+.\n  warnings.warn(msg, category=FutureWarning)\n"
    },
    {
     "output_type": "execute_result",
     "data": {
      "text/plain": "['Deal_Shark 1_model.pkl']"
     },
     "metadata": {},
     "execution_count": 29
    }
   ],
   "metadata": {},
   "execution_count": 29
  },
  {
   "source": [
    "import pickle\n",
    "pickle.dump(selected_features.columns,open(f\"{shark_to_model}_vocab.pkl\",\"wb\"))"
   ],
   "cell_type": "code",
   "outputs": [],
   "metadata": {},
   "execution_count": 30
  },
  {
   "source": [
    "y_smote"
   ],
   "cell_type": "code",
   "outputs": [
    {
     "output_type": "execute_result",
     "data": {
      "text/plain": "array(['Barbara Corcoran', 'Barbara Corcoran', 'Robert Herjavec',\n       'Barbara Corcoran', 'Barbara Corcoran', 'Others',\n       'Barbara Corcoran', \"Kevin O'Leary\", 'Barbara Corcoran',\n       \"Kevin O'Leary\", 'Others', 'Barbara Corcoran', 'Robert Herjavec',\n       'Daymond John', 'Barbara Corcoran', 'Barbara Corcoran',\n       'Barbara Corcoran', 'Barbara Corcoran', 'Daymond John',\n       'Daymond John', \"Kevin O'Leary\", 'Others', 'Daymond John',\n       'Barbara Corcoran', 'Barbara Corcoran', 'Others',\n       'Barbara Corcoran', 'Barbara Corcoran', 'Daymond John', 'Others',\n       'Daymond John', \"Kevin O'Leary\", 'Barbara Corcoran',\n       'Daymond John', 'Barbara Corcoran', 'Mark Cuban',\n       'Robert Herjavec', 'Mark Cuban', 'Barbara Corcoran',\n       'Daymond John', 'Robert Herjavec', 'Barbara Corcoran',\n       'Daymond John', 'Barbara Corcoran', 'Others', 'Daymond John',\n       'Daymond John', 'Mark Cuban', 'Mark Cuban', 'Robert Herjavec',\n       'Robert Herjavec', 'Lori Greiner', 'Lori Greiner', 'Lori Greiner',\n       \"Kevin O'Leary\", 'Daymond John', 'Lori Greiner', 'Mark Cuban',\n       'Mark Cuban', 'Barbara Corcoran', 'Daymond John',\n       'Barbara Corcoran', 'Mark Cuban', 'Mark Cuban', 'Daymond John',\n       'Mark Cuban', 'Lori Greiner', 'Barbara Corcoran',\n       'Barbara Corcoran', 'Daymond John', 'Barbara Corcoran',\n       'Barbara Corcoran', 'Daymond John', \"Kevin O'Leary\",\n       'Barbara Corcoran', 'Barbara Corcoran', 'Daymond John',\n       'Mark Cuban', 'Mark Cuban', 'Daymond John', 'Lori Greiner',\n       'Lori Greiner', 'Daymond John', 'Lori Greiner', 'Barbara Corcoran',\n       'Daymond John', 'Lori Greiner', \"Kevin O'Leary\", 'Lori Greiner',\n       'Lori Greiner', \"Kevin O'Leary\", 'Barbara Corcoran',\n       \"Kevin O'Leary\", 'Barbara Corcoran', 'Mark Cuban', 'Mark Cuban',\n       'Lori Greiner', 'Daymond John', 'Mark Cuban', 'Lori Greiner',\n       'Daymond John', 'Daymond John', 'Others', \"Kevin O'Leary\",\n       'Mark Cuban', 'Daymond John', 'Mark Cuban', 'Lori Greiner',\n       'Daymond John', 'Mark Cuban', 'Lori Greiner', 'Mark Cuban',\n       'Mark Cuban', 'Daymond John', \"Kevin O'Leary\", 'Robert Herjavec',\n       'Lori Greiner', 'Mark Cuban', 'Daymond John', \"Kevin O'Leary\",\n       \"Kevin O'Leary\", 'Mark Cuban', 'Barbara Corcoran',\n       'Barbara Corcoran', 'Barbara Corcoran', 'Barbara Corcoran',\n       \"Kevin O'Leary\", 'Robert Herjavec', 'Barbara Corcoran',\n       'Daymond John', 'Daymond John', 'Robert Herjavec', 'Mark Cuban',\n       'Robert Herjavec', 'Lori Greiner', 'Lori Greiner',\n       'Barbara Corcoran', 'Lori Greiner', 'Mark Cuban', \"Kevin O'Leary\",\n       'Daymond John', 'Lori Greiner', 'Others', 'Others',\n       'Barbara Corcoran', 'Lori Greiner', \"Kevin O'Leary\",\n       'Daymond John', 'Daymond John', 'Robert Herjavec', \"Kevin O'Leary\",\n       'Robert Herjavec', 'Lori Greiner', 'Lori Greiner', 'Daymond John',\n       'Lori Greiner', 'Lori Greiner', 'Lori Greiner', 'Barbara Corcoran',\n       'Daymond John', 'Lori Greiner', 'Robert Herjavec', 'Mark Cuban',\n       \"Kevin O'Leary\", 'Mark Cuban', 'Barbara Corcoran', 'Mark Cuban',\n       'Daymond John', 'Others', 'Lori Greiner', 'Mark Cuban',\n       'Lori Greiner', 'Robert Herjavec', 'Barbara Corcoran',\n       \"Kevin O'Leary\", \"Kevin O'Leary\", 'Mark Cuban', 'Others',\n       'Mark Cuban', 'Barbara Corcoran', 'Mark Cuban', 'Lori Greiner',\n       'Others', 'Mark Cuban', 'Others', 'Robert Herjavec',\n       'Lori Greiner', 'Mark Cuban', 'Daymond John', 'Daymond John',\n       'Robert Herjavec', 'Lori Greiner', 'Daymond John', 'Mark Cuban',\n       \"Kevin O'Leary\", 'Daymond John', 'Mark Cuban', \"Kevin O'Leary\",\n       'Lori Greiner', 'Lori Greiner', 'Mark Cuban', 'Barbara Corcoran',\n       \"Kevin O'Leary\", 'Robert Herjavec', 'Daymond John', 'Daymond John',\n       'Lori Greiner', 'Barbara Corcoran', 'Lori Greiner', 'Lori Greiner',\n       'Robert Herjavec', 'Lori Greiner', 'Lori Greiner', 'Daymond John',\n       'Lori Greiner', 'Mark Cuban', \"Kevin O'Leary\", 'Barbara Corcoran',\n       'Lori Greiner', 'Barbara Corcoran', 'Daymond John', 'Lori Greiner',\n       'Others', 'Others', 'Others', 'Others', 'Others', 'Others',\n       'Others', 'Others', 'Robert Herjavec', 'Others', 'Others',\n       'Lori Greiner', 'Daymond John', 'Daymond John', 'Barbara Corcoran',\n       'Robert Herjavec', \"Kevin O'Leary\", 'Daymond John', 'Mark Cuban',\n       'Others', 'Others', 'Robert Herjavec', 'Others', 'Others',\n       'Mark Cuban', 'Robert Herjavec', 'Mark Cuban', 'Barbara Corcoran',\n       \"Kevin O'Leary\", 'Daymond John', 'Lori Greiner', 'Lori Greiner',\n       'Lori Greiner', 'Others', 'Lori Greiner', 'Mark Cuban',\n       'Daymond John', 'Mark Cuban', 'Lori Greiner', 'Lori Greiner',\n       'Daymond John', 'Daymond John', 'Mark Cuban', 'Lori Greiner',\n       'Lori Greiner', 'Mark Cuban', 'Others', 'Barbara Corcoran',\n       'Lori Greiner', 'Lori Greiner', 'Mark Cuban', 'Mark Cuban',\n       \"Kevin O'Leary\", 'Mark Cuban', 'Lori Greiner', 'Daymond John',\n       'Lori Greiner', \"Kevin O'Leary\", \"Kevin O'Leary\",\n       'Barbara Corcoran', 'Daymond John', \"Kevin O'Leary\",\n       'Lori Greiner', 'Robert Herjavec', \"Kevin O'Leary\", 'Lori Greiner',\n       'Lori Greiner', \"Kevin O'Leary\", 'Robert Herjavec', 'Others',\n       'Mark Cuban', 'Others', 'Mark Cuban', 'Mark Cuban', 'Lori Greiner',\n       \"Kevin O'Leary\", 'Robert Herjavec', 'Daymond John', 'Daymond John',\n       'Mark Cuban', 'Lori Greiner', 'Barbara Corcoran',\n       'Barbara Corcoran', 'Daymond John', 'Daymond John',\n       'Barbara Corcoran', 'Mark Cuban', 'Mark Cuban', \"Kevin O'Leary\",\n       'Lori Greiner', \"Kevin O'Leary\", 'Barbara Corcoran',\n       \"Kevin O'Leary\", 'Daymond John', 'Lori Greiner', 'Lori Greiner',\n       'Robert Herjavec', 'Lori Greiner', 'Barbara Corcoran',\n       'Barbara Corcoran', 'Lori Greiner', 'Lori Greiner', 'Lori Greiner',\n       'Robert Herjavec', 'Mark Cuban', 'Daymond John', 'Lori Greiner',\n       'Robert Herjavec', 'Robert Herjavec', 'Barbara Corcoran',\n       \"Kevin O'Leary\", \"Kevin O'Leary\", \"Kevin O'Leary\", 'Lori Greiner',\n       'Lori Greiner', \"Kevin O'Leary\", 'Others', 'Daymond John',\n       'Mark Cuban', 'Barbara Corcoran', 'Others', 'Lori Greiner',\n       'Barbara Corcoran', 'Daymond John', 'Robert Herjavec',\n       'Barbara Corcoran', \"Kevin O'Leary\", \"Kevin O'Leary\",\n       'Barbara Corcoran', 'Lori Greiner', 'Daymond John', 'Lori Greiner',\n       'Others', 'Daymond John', 'Mark Cuban', 'Others',\n       'Robert Herjavec', 'Lori Greiner', 'Robert Herjavec', 'Others',\n       'Mark Cuban', 'Robert Herjavec', 'Daymond John', 'Lori Greiner',\n       \"Kevin O'Leary\", 'Lori Greiner', 'Daymond John', 'Lori Greiner',\n       'Robert Herjavec', \"Kevin O'Leary\", 'Lori Greiner', 'Mark Cuban',\n       'Barbara Corcoran', 'Mark Cuban', 'Lori Greiner', 'Mark Cuban',\n       'Robert Herjavec', 'Robert Herjavec', \"Kevin O'Leary\",\n       \"Kevin O'Leary\", 'Barbara Corcoran', 'Barbara Corcoran',\n       'Barbara Corcoran', 'Barbara Corcoran', 'Barbara Corcoran',\n       'Barbara Corcoran', 'Barbara Corcoran', 'Barbara Corcoran',\n       'Barbara Corcoran', 'Barbara Corcoran', 'Barbara Corcoran',\n       'Barbara Corcoran', 'Barbara Corcoran', 'Barbara Corcoran',\n       'Barbara Corcoran', 'Barbara Corcoran', 'Barbara Corcoran',\n       'Daymond John', 'Daymond John', 'Daymond John', 'Daymond John',\n       'Daymond John', 'Daymond John', 'Daymond John', 'Daymond John',\n       'Daymond John', 'Daymond John', 'Daymond John', 'Daymond John',\n       'Daymond John', 'Daymond John', 'Daymond John', \"Kevin O'Leary\",\n       \"Kevin O'Leary\", \"Kevin O'Leary\", \"Kevin O'Leary\", \"Kevin O'Leary\",\n       \"Kevin O'Leary\", \"Kevin O'Leary\", \"Kevin O'Leary\", \"Kevin O'Leary\",\n       \"Kevin O'Leary\", \"Kevin O'Leary\", \"Kevin O'Leary\", \"Kevin O'Leary\",\n       \"Kevin O'Leary\", \"Kevin O'Leary\", \"Kevin O'Leary\", \"Kevin O'Leary\",\n       \"Kevin O'Leary\", \"Kevin O'Leary\", \"Kevin O'Leary\", \"Kevin O'Leary\",\n       \"Kevin O'Leary\", \"Kevin O'Leary\", \"Kevin O'Leary\", \"Kevin O'Leary\",\n       \"Kevin O'Leary\", \"Kevin O'Leary\", \"Kevin O'Leary\", \"Kevin O'Leary\",\n       \"Kevin O'Leary\", \"Kevin O'Leary\", \"Kevin O'Leary\", \"Kevin O'Leary\",\n       'Mark Cuban', 'Mark Cuban', 'Mark Cuban', 'Mark Cuban',\n       'Mark Cuban', 'Mark Cuban', 'Mark Cuban', 'Mark Cuban',\n       'Mark Cuban', 'Mark Cuban', 'Mark Cuban', 'Mark Cuban',\n       'Mark Cuban', 'Mark Cuban', 'Mark Cuban', 'Mark Cuban',\n       'Mark Cuban', 'Mark Cuban', 'Mark Cuban', 'Mark Cuban', 'Others',\n       'Others', 'Others', 'Others', 'Others', 'Others', 'Others',\n       'Others', 'Others', 'Others', 'Others', 'Others', 'Others',\n       'Others', 'Others', 'Others', 'Others', 'Others', 'Others',\n       'Others', 'Others', 'Others', 'Others', 'Others', 'Others',\n       'Others', 'Others', 'Others', 'Others', 'Others', 'Others',\n       'Others', 'Others', 'Others', 'Others', 'Others', 'Others',\n       'Others', 'Others', 'Others', 'Others', 'Others', 'Others',\n       'Robert Herjavec', 'Robert Herjavec', 'Robert Herjavec',\n       'Robert Herjavec', 'Robert Herjavec', 'Robert Herjavec',\n       'Robert Herjavec', 'Robert Herjavec', 'Robert Herjavec',\n       'Robert Herjavec', 'Robert Herjavec', 'Robert Herjavec',\n       'Robert Herjavec', 'Robert Herjavec', 'Robert Herjavec',\n       'Robert Herjavec', 'Robert Herjavec', 'Robert Herjavec',\n       'Robert Herjavec', 'Robert Herjavec', 'Robert Herjavec',\n       'Robert Herjavec', 'Robert Herjavec', 'Robert Herjavec',\n       'Robert Herjavec', 'Robert Herjavec', 'Robert Herjavec',\n       'Robert Herjavec', 'Robert Herjavec', 'Robert Herjavec',\n       'Robert Herjavec', 'Robert Herjavec', 'Robert Herjavec',\n       'Robert Herjavec', 'Robert Herjavec', 'Robert Herjavec',\n       'Robert Herjavec', 'Robert Herjavec', 'Robert Herjavec',\n       'Robert Herjavec', 'Robert Herjavec', 'Robert Herjavec',\n       'Robert Herjavec'], dtype=object)"
     },
     "metadata": {},
     "execution_count": 25
    }
   ],
   "metadata": {},
   "execution_count": 25
  },
  {
   "source": [
    "# \"Kevin O'Leary\"\n",
    "# \"Barbara Corcoran\"\n",
    "# \"Robert Herjavec\"\n",
    "# \"Daymond John\"\n",
    "# \"Lori Greiner\"\n",
    "# \"Mark Cuban\"\n",
    "# \"Others\"\n",
    "confusion_matrix(y_test,y_pred, labels=[\"Barabara Corcoran\",\"Daymond John\",\"Lori Greiner\",\"Mark Cuban\",\"Kevin O'Leary\",\"Robert Herjavec\",\"Others\"])"
   ],
   "cell_type": "code",
   "outputs": [
    {
     "output_type": "execute_result",
     "data": {
      "text/plain": "array([[0, 0, 0, 0, 0, 0, 0],\n       [0, 0, 4, 0, 4, 0, 1],\n       [0, 0, 5, 0, 7, 1, 1],\n       [0, 0, 1, 0, 8, 0, 0],\n       [0, 0, 3, 0, 4, 1, 1],\n       [0, 1, 2, 0, 3, 0, 2],\n       [0, 0, 5, 0, 3, 0, 1]], dtype=int64)"
     },
     "metadata": {},
     "execution_count": 45
    }
   ],
   "metadata": {},
   "execution_count": 45
  },
  {
   "cell_type": "code",
   "execution_count": null,
   "metadata": {},
   "outputs": [],
   "source": []
  }
 ],
 "metadata": {
  "file_extension": ".py",
  "kernelspec": {
   "display_name": "PythonData",
   "language": "python",
   "name": "pythondata"
  },
  "language_info": {
   "codemirror_mode": {
    "name": "ipython",
    "version": 3
   },
   "file_extension": ".py",
   "mimetype": "text/x-python",
   "name": "python",
   "nbconvert_exporter": "python",
   "pygments_lexer": "ipython3",
   "version": "3.7.4-final"
  },
  "mimetype": "text/x-python",
  "name": "python",
  "npconvert_exporter": "python",
  "pygments_lexer": "ipython3",
  "version": 3
 },
 "nbformat": 4,
 "nbformat_minor": 2
}