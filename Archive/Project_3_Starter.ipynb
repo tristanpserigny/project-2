{
 "cells": [
  {
   "cell_type": "code",
   "execution_count": 1,
   "metadata": {},
   "outputs": [
    {
     "data": {
      "text/html": [
       "<div>\n",
       "<style scoped>\n",
       "    .dataframe tbody tr th:only-of-type {\n",
       "        vertical-align: middle;\n",
       "    }\n",
       "\n",
       "    .dataframe tbody tr th {\n",
       "        vertical-align: top;\n",
       "    }\n",
       "\n",
       "    .dataframe thead th {\n",
       "        text-align: right;\n",
       "    }\n",
       "</style>\n",
       "<table border=\"1\" class=\"dataframe\">\n",
       "  <thead>\n",
       "    <tr style=\"text-align: right;\">\n",
       "      <th></th>\n",
       "      <th>Season_Epi_code</th>\n",
       "      <th>Pitched_Business_Identifier</th>\n",
       "      <th>Pitched_Business_Desc</th>\n",
       "      <th>Deal_Status</th>\n",
       "      <th>Deal_Shark 1</th>\n",
       "      <th>Deal_Shark 2</th>\n",
       "      <th>Deal_Shark 3</th>\n",
       "      <th>Deal_Shark 4</th>\n",
       "      <th>Deal_Shark 5</th>\n",
       "    </tr>\n",
       "  </thead>\n",
       "  <tbody>\n",
       "    <tr>\n",
       "      <th>0</th>\n",
       "      <td>826</td>\n",
       "      <td>Bridal Buddy</td>\n",
       "      <td>a functional slip worn under a wedding gown th...</td>\n",
       "      <td>1</td>\n",
       "      <td>Kevin O'Leary</td>\n",
       "      <td>Lori Greiner</td>\n",
       "      <td>NaN</td>\n",
       "      <td>NaN</td>\n",
       "      <td>NaN</td>\n",
       "    </tr>\n",
       "    <tr>\n",
       "      <th>1</th>\n",
       "      <td>826</td>\n",
       "      <td>Laid Brand</td>\n",
       "      <td>hair-care products made with pheromones . Laid...</td>\n",
       "      <td>0</td>\n",
       "      <td>NaN</td>\n",
       "      <td>NaN</td>\n",
       "      <td>NaN</td>\n",
       "      <td>NaN</td>\n",
       "      <td>NaN</td>\n",
       "    </tr>\n",
       "    <tr>\n",
       "      <th>2</th>\n",
       "      <td>826</td>\n",
       "      <td>Rocketbook</td>\n",
       "      <td>a notebook that can scan contents to cloud ser...</td>\n",
       "      <td>0</td>\n",
       "      <td>NaN</td>\n",
       "      <td>NaN</td>\n",
       "      <td>NaN</td>\n",
       "      <td>NaN</td>\n",
       "      <td>NaN</td>\n",
       "    </tr>\n",
       "    <tr>\n",
       "      <th>3</th>\n",
       "      <td>826</td>\n",
       "      <td>Wine &amp; Design</td>\n",
       "      <td>painting classes with wine served . Wine &amp; Des...</td>\n",
       "      <td>1</td>\n",
       "      <td>Kevin O'Leary</td>\n",
       "      <td>NaN</td>\n",
       "      <td>NaN</td>\n",
       "      <td>NaN</td>\n",
       "      <td>NaN</td>\n",
       "    </tr>\n",
       "    <tr>\n",
       "      <th>4</th>\n",
       "      <td>824</td>\n",
       "      <td>Peoples Design</td>\n",
       "      <td>a mixing bowl with a built-in scoop . Peoples ...</td>\n",
       "      <td>1</td>\n",
       "      <td>Lori Greiner</td>\n",
       "      <td>NaN</td>\n",
       "      <td>NaN</td>\n",
       "      <td>NaN</td>\n",
       "      <td>NaN</td>\n",
       "    </tr>\n",
       "  </tbody>\n",
       "</table>\n",
       "</div>"
      ],
      "text/plain": [
       "   Season_Epi_code Pitched_Business_Identifier  \\\n",
       "0              826                Bridal Buddy   \n",
       "1              826                  Laid Brand   \n",
       "2              826                  Rocketbook   \n",
       "3              826               Wine & Design   \n",
       "4              824              Peoples Design   \n",
       "\n",
       "                               Pitched_Business_Desc  Deal_Status  \\\n",
       "0  a functional slip worn under a wedding gown th...            1   \n",
       "1  hair-care products made with pheromones . Laid...            0   \n",
       "2  a notebook that can scan contents to cloud ser...            0   \n",
       "3  painting classes with wine served . Wine & Des...            1   \n",
       "4  a mixing bowl with a built-in scoop . Peoples ...            1   \n",
       "\n",
       "    Deal_Shark 1  Deal_Shark 2 Deal_Shark 3 Deal_Shark 4 Deal_Shark 5  \n",
       "0  Kevin O'Leary  Lori Greiner          NaN          NaN          NaN  \n",
       "1            NaN           NaN          NaN          NaN          NaN  \n",
       "2            NaN           NaN          NaN          NaN          NaN  \n",
       "3  Kevin O'Leary           NaN          NaN          NaN          NaN  \n",
       "4   Lori Greiner           NaN          NaN          NaN          NaN  "
      ]
     },
     "execution_count": 1,
     "metadata": {},
     "output_type": "execute_result"
    }
   ],
   "source": [
    "import numpy as np \n",
    "import pandas as pd \n",
    "import re\n",
    "import nltk\n",
    "df = pd.read_csv('data/S1_8Sharktankpitchesdeals.csv')\n",
    "\n",
    "df.head()"
   ]
  },
  {
   "cell_type": "code",
   "execution_count": 2,
   "metadata": {},
   "outputs": [],
   "source": [
    "def cleaning(corpus):\n",
    "    letters_only = re.sub(\"[^a-zA-Z]\", \" \", corpus) \n",
    "    words = letters_only.lower().split()                            \n",
    "    return( \" \".join( words ))    "
   ]
  },
  {
   "cell_type": "code",
   "execution_count": 3,
   "metadata": {},
   "outputs": [
    {
     "name": "stderr",
     "output_type": "stream",
     "text": [
      "[nltk_data] Downloading package stopwords to\n",
      "[nltk_data]     C:\\Users\\Tristan\\AppData\\Roaming\\nltk_data...\n",
      "[nltk_data]   Unzipping corpora\\stopwords.zip.\n"
     ]
    },
    {
     "data": {
      "text/plain": [
       "True"
      ]
     },
     "execution_count": 3,
     "metadata": {},
     "output_type": "execute_result"
    }
   ],
   "source": [
    "import nltk\n",
    "nltk.download('stopwords')"
   ]
  },
  {
   "cell_type": "code",
   "execution_count": 4,
   "metadata": {},
   "outputs": [],
   "source": [
    "from nltk.corpus import stopwords\n",
    "addedwords = ('service','use','product','line','allow','make','offer','make','provide','products','design','made')\n",
    "stop = stopwords.words('english')+list(addedwords)\n",
    "\n",
    "df['Pitched_Business_Desc'] = df['Pitched_Business_Desc'].apply(lambda x: ' '.join([word for word in x.split() if word not in (stop)]))\n"
   ]
  },
  {
   "cell_type": "code",
   "execution_count": 6,
   "metadata": {},
   "outputs": [
    {
     "name": "stdout",
     "output_type": "stream",
     "text": [
      "functional slip worn wedding gown allows wearer restroom bridal buddy lightweight slip worn gown lets brides go bathroom wearing it when nature calls bride bag bustle safely relieve without making mess\n",
      "hair care pheromones laid brand pheromone enriched hair care that enhances color addition protecting hydrating hair the pheromones help girls exude confidence wherever goes\n",
      "notebook scan contents cloud services via app erased microwaved rocketbook intelligent reusable notebook allows users write traditional pen notebook the notebook erasable reusable allowing users send notes cloud simply smartphone send writings cloud microwave oven erase future use\n",
      "painting classes wine served wine design provides space painting classes ages experience levels a local artist guides student stroke by stroke instructions ensure paint unique masterpiece\n",
      "mixing bowl built in scoop peoples designs scooping bowl multi purpose mixing bowl which saves time space money kitchen it features removable spatula egg separator all in one washing draining addition separating various ingredients easily\n"
     ]
    }
   ],
   "source": [
    "df['Pitched_Business_Desc'] = df['Pitched_Business_Desc'].apply(lambda x: cleaning(x))\n",
    "df = df[['Deal_Status','Pitched_Business_Desc']]\n",
    "for i in range(5):\n",
    "    print(df['Pitched_Business_Desc'][i])"
   ]
  }
 ],
 "metadata": {
  "kernelspec": {
   "display_name": "Conda [PythonData]",
   "language": "python",
   "name": "pythondata"
  },
  "language_info": {
   "codemirror_mode": {
    "name": "ipython",
    "version": 3
   },
   "file_extension": ".py",
   "mimetype": "text/x-python",
   "name": "python",
   "nbconvert_exporter": "python",
   "pygments_lexer": "ipython3",
   "version": "3.7.3"
  }
 },
 "nbformat": 4,
 "nbformat_minor": 2
}
